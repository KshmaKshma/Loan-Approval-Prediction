{
 "cells": [
  {
   "cell_type": "markdown",
   "metadata": {
    "id": "z5vekF-RNXd6"
   },
   "source": [
    "# **Import Lib...**"
   ]
  },
  {
   "cell_type": "code",
   "execution_count": 1,
   "metadata": {
    "executionInfo": {
     "elapsed": 3615,
     "status": "ok",
     "timestamp": 1722845911534,
     "user": {
      "displayName": "kshma singh",
      "userId": "17750697602041806794"
     },
     "user_tz": -330
    },
    "id": "xwHmy--kNZNl"
   },
   "outputs": [],
   "source": [
    "import pandas as pd\n",
    "import numpy as np\n",
    "import matplotlib.pyplot as plt\n",
    "import seaborn as sns\n",
    "from sklearn.tree import plot_tree\n",
    "from sklearn.preprocessing import StandardScaler\n",
    "from sklearn.model_selection import train_test_split\n",
    "from sklearn.metrics import confusion_matrix, classification_report, ConfusionMatrixDisplay\n",
    "from sklearn.metrics import accuracy_score, precision_score, recall_score, f1_score, confusion_matrix,make_scorer\n",
    "from sklearn.preprocessing import LabelEncoder\n",
    "from sklearn.linear_model import LogisticRegression\n",
    "from sklearn.tree import DecisionTreeClassifier\n",
    "from sklearn.ensemble import RandomForestClassifier\n",
    "from sklearn.model_selection import GridSearchCV\n",
    "from sklearn.ensemble import GradientBoostingClassifier\n",
    "from sklearn.neighbors import KNeighborsClassifier\n",
    "from xgboost import *\n",
    "from sklearn.model_selection import cross_val_score, KFold\n",
    "import warnings\n",
    "warnings.filterwarnings('ignore')"
   ]
  },
  {
   "cell_type": "code",
   "execution_count": 2,
   "metadata": {
    "colab": {
     "base_uri": "https://localhost:8080/"
    },
    "executionInfo": {
     "elapsed": 15241,
     "status": "ok",
     "timestamp": 1722845926771,
     "user": {
      "displayName": "kshma singh",
      "userId": "17750697602041806794"
     },
     "user_tz": -330
    },
    "id": "wVRGjo4MNagp",
    "outputId": "17de8f13-1f18-451b-dffc-2162fd8f2cac"
   },
   "outputs": [],
   "source": [
    "# # Mount Drive\n",
    "# from google.colab import drive\n",
    "# drive.mount('/content/drive')"
   ]
  },
  {
   "cell_type": "code",
   "execution_count": 3,
   "metadata": {
    "executionInfo": {
     "elapsed": 1003,
     "status": "ok",
     "timestamp": 1722845927770,
     "user": {
      "displayName": "kshma singh",
      "userId": "17750697602041806794"
     },
     "user_tz": -330
    },
    "id": "tpX8RMlsNezs"
   },
   "outputs": [],
   "source": [
    "# # Reading Data\n",
    "# encoding = 'latin1'\n",
    "# df = pd.read_csv('/content/drive/MyDrive/Spotify_capstone_project/loan_approval_dataset.csv',  encoding=encoding)\n",
    "df = pd.read_csv('loan_approval_dataset.csv')"
   ]
  },
  {
   "cell_type": "markdown",
   "metadata": {
    "id": "MtSd-KMJA01y"
   },
   "source": [
    "**Reading Data and Understanding of Data**"
   ]
  },
  {
   "cell_type": "code",
   "execution_count": 4,
   "metadata": {
    "colab": {
     "base_uri": "https://localhost:8080/",
     "height": 261
    },
    "executionInfo": {
     "elapsed": 51,
     "status": "ok",
     "timestamp": 1722845927770,
     "user": {
      "displayName": "kshma singh",
      "userId": "17750697602041806794"
     },
     "user_tz": -330
    },
    "id": "4hz6RJiENro6",
    "outputId": "f1b77daf-4084-4f27-842f-5b3242425965"
   },
   "outputs": [
    {
     "data": {
      "text/html": [
       "<div>\n",
       "<style scoped>\n",
       "    .dataframe tbody tr th:only-of-type {\n",
       "        vertical-align: middle;\n",
       "    }\n",
       "\n",
       "    .dataframe tbody tr th {\n",
       "        vertical-align: top;\n",
       "    }\n",
       "\n",
       "    .dataframe thead th {\n",
       "        text-align: right;\n",
       "    }\n",
       "</style>\n",
       "<table border=\"1\" class=\"dataframe\">\n",
       "  <thead>\n",
       "    <tr style=\"text-align: right;\">\n",
       "      <th></th>\n",
       "      <th>loan_id</th>\n",
       "      <th>no_of_dependents</th>\n",
       "      <th>education</th>\n",
       "      <th>self_employed</th>\n",
       "      <th>income_annum</th>\n",
       "      <th>loan_amount</th>\n",
       "      <th>loan_term</th>\n",
       "      <th>cibil_score</th>\n",
       "      <th>residential_assets_value</th>\n",
       "      <th>commercial_assets_value</th>\n",
       "      <th>luxury_assets_value</th>\n",
       "      <th>bank_asset_value</th>\n",
       "      <th>loan_status</th>\n",
       "    </tr>\n",
       "  </thead>\n",
       "  <tbody>\n",
       "    <tr>\n",
       "      <th>0</th>\n",
       "      <td>1</td>\n",
       "      <td>2</td>\n",
       "      <td>Graduate</td>\n",
       "      <td>No</td>\n",
       "      <td>9600000</td>\n",
       "      <td>29900000</td>\n",
       "      <td>12</td>\n",
       "      <td>778</td>\n",
       "      <td>2400000</td>\n",
       "      <td>17600000</td>\n",
       "      <td>22700000</td>\n",
       "      <td>8000000</td>\n",
       "      <td>Approved</td>\n",
       "    </tr>\n",
       "    <tr>\n",
       "      <th>1</th>\n",
       "      <td>2</td>\n",
       "      <td>0</td>\n",
       "      <td>Not Graduate</td>\n",
       "      <td>Yes</td>\n",
       "      <td>4100000</td>\n",
       "      <td>12200000</td>\n",
       "      <td>8</td>\n",
       "      <td>417</td>\n",
       "      <td>2700000</td>\n",
       "      <td>2200000</td>\n",
       "      <td>8800000</td>\n",
       "      <td>3300000</td>\n",
       "      <td>Rejected</td>\n",
       "    </tr>\n",
       "    <tr>\n",
       "      <th>2</th>\n",
       "      <td>3</td>\n",
       "      <td>3</td>\n",
       "      <td>Graduate</td>\n",
       "      <td>No</td>\n",
       "      <td>9100000</td>\n",
       "      <td>29700000</td>\n",
       "      <td>20</td>\n",
       "      <td>506</td>\n",
       "      <td>7100000</td>\n",
       "      <td>4500000</td>\n",
       "      <td>33300000</td>\n",
       "      <td>12800000</td>\n",
       "      <td>Rejected</td>\n",
       "    </tr>\n",
       "    <tr>\n",
       "      <th>3</th>\n",
       "      <td>4</td>\n",
       "      <td>3</td>\n",
       "      <td>Graduate</td>\n",
       "      <td>No</td>\n",
       "      <td>8200000</td>\n",
       "      <td>30700000</td>\n",
       "      <td>8</td>\n",
       "      <td>467</td>\n",
       "      <td>18200000</td>\n",
       "      <td>3300000</td>\n",
       "      <td>23300000</td>\n",
       "      <td>7900000</td>\n",
       "      <td>Rejected</td>\n",
       "    </tr>\n",
       "    <tr>\n",
       "      <th>4</th>\n",
       "      <td>5</td>\n",
       "      <td>5</td>\n",
       "      <td>Not Graduate</td>\n",
       "      <td>Yes</td>\n",
       "      <td>9800000</td>\n",
       "      <td>24200000</td>\n",
       "      <td>20</td>\n",
       "      <td>382</td>\n",
       "      <td>12400000</td>\n",
       "      <td>8200000</td>\n",
       "      <td>29400000</td>\n",
       "      <td>5000000</td>\n",
       "      <td>Rejected</td>\n",
       "    </tr>\n",
       "  </tbody>\n",
       "</table>\n",
       "</div>"
      ],
      "text/plain": [
       "   loan_id   no_of_dependents      education  self_employed   income_annum  \\\n",
       "0        1                  2       Graduate             No        9600000   \n",
       "1        2                  0   Not Graduate            Yes        4100000   \n",
       "2        3                  3       Graduate             No        9100000   \n",
       "3        4                  3       Graduate             No        8200000   \n",
       "4        5                  5   Not Graduate            Yes        9800000   \n",
       "\n",
       "    loan_amount   loan_term   cibil_score   residential_assets_value  \\\n",
       "0      29900000          12           778                    2400000   \n",
       "1      12200000           8           417                    2700000   \n",
       "2      29700000          20           506                    7100000   \n",
       "3      30700000           8           467                   18200000   \n",
       "4      24200000          20           382                   12400000   \n",
       "\n",
       "    commercial_assets_value   luxury_assets_value   bank_asset_value  \\\n",
       "0                  17600000              22700000            8000000   \n",
       "1                   2200000               8800000            3300000   \n",
       "2                   4500000              33300000           12800000   \n",
       "3                   3300000              23300000            7900000   \n",
       "4                   8200000              29400000            5000000   \n",
       "\n",
       "   loan_status  \n",
       "0     Approved  \n",
       "1     Rejected  \n",
       "2     Rejected  \n",
       "3     Rejected  \n",
       "4     Rejected  "
      ]
     },
     "execution_count": 4,
     "metadata": {},
     "output_type": "execute_result"
    }
   ],
   "source": [
    "# top 5 rows\n",
    "df.head()"
   ]
  },
  {
   "cell_type": "code",
   "execution_count": 5,
   "metadata": {
    "colab": {
     "base_uri": "https://localhost:8080/"
    },
    "executionInfo": {
     "elapsed": 49,
     "status": "ok",
     "timestamp": 1722845927770,
     "user": {
      "displayName": "kshma singh",
      "userId": "17750697602041806794"
     },
     "user_tz": -330
    },
    "id": "hYjdZA9erAeP",
    "outputId": "03c4fddf-479d-47eb-e0a5-4323194b6a58"
   },
   "outputs": [
    {
     "data": {
      "text/plain": [
       "(4269, 13)"
      ]
     },
     "execution_count": 5,
     "metadata": {},
     "output_type": "execute_result"
    }
   ],
   "source": [
    "# Data shape\n",
    "df.shape"
   ]
  },
  {
   "cell_type": "code",
   "execution_count": 6,
   "metadata": {
    "colab": {
     "base_uri": "https://localhost:8080/",
     "height": 491
    },
    "executionInfo": {
     "elapsed": 46,
     "status": "ok",
     "timestamp": 1722845927770,
     "user": {
      "displayName": "kshma singh",
      "userId": "17750697602041806794"
     },
     "user_tz": -330
    },
    "id": "Tv01izV7OpsO",
    "outputId": "cbe15436-3997-479c-d480-04a909bbdc74"
   },
   "outputs": [
    {
     "data": {
      "text/plain": [
       "loan_id                       int64\n",
       " no_of_dependents             int64\n",
       " education                   object\n",
       " self_employed               object\n",
       " income_annum                 int64\n",
       " loan_amount                  int64\n",
       " loan_term                    int64\n",
       " cibil_score                  int64\n",
       " residential_assets_value     int64\n",
       " commercial_assets_value      int64\n",
       " luxury_assets_value          int64\n",
       " bank_asset_value             int64\n",
       " loan_status                 object\n",
       "dtype: object"
      ]
     },
     "execution_count": 6,
     "metadata": {},
     "output_type": "execute_result"
    }
   ],
   "source": [
    "# dtypes of Each Col\n",
    "df.dtypes"
   ]
  },
  {
   "cell_type": "code",
   "execution_count": 7,
   "metadata": {
    "colab": {
     "base_uri": "https://localhost:8080/"
    },
    "executionInfo": {
     "elapsed": 43,
     "status": "ok",
     "timestamp": 1722845927770,
     "user": {
      "displayName": "kshma singh",
      "userId": "17750697602041806794"
     },
     "user_tz": -330
    },
    "id": "t-XqO6KmB2PJ",
    "outputId": "31a38eab-507a-42b5-c1a1-82b35fa99ed5"
   },
   "outputs": [
    {
     "data": {
      "text/plain": [
       "Index(['loan_id', ' no_of_dependents', ' education', ' self_employed',\n",
       "       ' income_annum', ' loan_amount', ' loan_term', ' cibil_score',\n",
       "       ' residential_assets_value', ' commercial_assets_value',\n",
       "       ' luxury_assets_value', ' bank_asset_value', ' loan_status'],\n",
       "      dtype='object')"
      ]
     },
     "execution_count": 7,
     "metadata": {},
     "output_type": "execute_result"
    }
   ],
   "source": [
    "# Columns in dataset\n",
    "df.columns"
   ]
  },
  {
   "cell_type": "code",
   "execution_count": 8,
   "metadata": {
    "colab": {
     "base_uri": "https://localhost:8080/"
    },
    "executionInfo": {
     "elapsed": 40,
     "status": "ok",
     "timestamp": 1722845927771,
     "user": {
      "displayName": "kshma singh",
      "userId": "17750697602041806794"
     },
     "user_tz": -330
    },
    "id": "zUv5xNySBuQ7",
    "outputId": "3d6fb441-f68c-49fc-9f07-91b44a27a4a0"
   },
   "outputs": [
    {
     "name": "stdout",
     "output_type": "stream",
     "text": [
      "<class 'pandas.core.frame.DataFrame'>\n",
      "RangeIndex: 4269 entries, 0 to 4268\n",
      "Data columns (total 13 columns):\n",
      " #   Column                     Non-Null Count  Dtype \n",
      "---  ------                     --------------  ----- \n",
      " 0   loan_id                    4269 non-null   int64 \n",
      " 1    no_of_dependents          4269 non-null   int64 \n",
      " 2    education                 4269 non-null   object\n",
      " 3    self_employed             4269 non-null   object\n",
      " 4    income_annum              4269 non-null   int64 \n",
      " 5    loan_amount               4269 non-null   int64 \n",
      " 6    loan_term                 4269 non-null   int64 \n",
      " 7    cibil_score               4269 non-null   int64 \n",
      " 8    residential_assets_value  4269 non-null   int64 \n",
      " 9    commercial_assets_value   4269 non-null   int64 \n",
      " 10   luxury_assets_value       4269 non-null   int64 \n",
      " 11   bank_asset_value          4269 non-null   int64 \n",
      " 12   loan_status               4269 non-null   object\n",
      "dtypes: int64(10), object(3)\n",
      "memory usage: 433.7+ KB\n"
     ]
    }
   ],
   "source": [
    "# Info\n",
    "df.info()"
   ]
  },
  {
   "cell_type": "code",
   "execution_count": 9,
   "metadata": {
    "colab": {
     "base_uri": "https://localhost:8080/",
     "height": 320
    },
    "executionInfo": {
     "elapsed": 37,
     "status": "ok",
     "timestamp": 1722845927771,
     "user": {
      "displayName": "kshma singh",
      "userId": "17750697602041806794"
     },
     "user_tz": -330
    },
    "id": "x8rYa95KBuEG",
    "outputId": "bd7a01d3-2631-4b1a-d657-4d9c4e588ebe"
   },
   "outputs": [
    {
     "data": {
      "text/html": [
       "<div>\n",
       "<style scoped>\n",
       "    .dataframe tbody tr th:only-of-type {\n",
       "        vertical-align: middle;\n",
       "    }\n",
       "\n",
       "    .dataframe tbody tr th {\n",
       "        vertical-align: top;\n",
       "    }\n",
       "\n",
       "    .dataframe thead th {\n",
       "        text-align: right;\n",
       "    }\n",
       "</style>\n",
       "<table border=\"1\" class=\"dataframe\">\n",
       "  <thead>\n",
       "    <tr style=\"text-align: right;\">\n",
       "      <th></th>\n",
       "      <th>loan_id</th>\n",
       "      <th>no_of_dependents</th>\n",
       "      <th>income_annum</th>\n",
       "      <th>loan_amount</th>\n",
       "      <th>loan_term</th>\n",
       "      <th>cibil_score</th>\n",
       "      <th>residential_assets_value</th>\n",
       "      <th>commercial_assets_value</th>\n",
       "      <th>luxury_assets_value</th>\n",
       "      <th>bank_asset_value</th>\n",
       "    </tr>\n",
       "  </thead>\n",
       "  <tbody>\n",
       "    <tr>\n",
       "      <th>count</th>\n",
       "      <td>4269.000000</td>\n",
       "      <td>4269.000000</td>\n",
       "      <td>4.269000e+03</td>\n",
       "      <td>4.269000e+03</td>\n",
       "      <td>4269.000000</td>\n",
       "      <td>4269.000000</td>\n",
       "      <td>4.269000e+03</td>\n",
       "      <td>4.269000e+03</td>\n",
       "      <td>4.269000e+03</td>\n",
       "      <td>4.269000e+03</td>\n",
       "    </tr>\n",
       "    <tr>\n",
       "      <th>mean</th>\n",
       "      <td>2135.000000</td>\n",
       "      <td>2.498712</td>\n",
       "      <td>5.059124e+06</td>\n",
       "      <td>1.513345e+07</td>\n",
       "      <td>10.900445</td>\n",
       "      <td>599.936051</td>\n",
       "      <td>7.472617e+06</td>\n",
       "      <td>4.973155e+06</td>\n",
       "      <td>1.512631e+07</td>\n",
       "      <td>4.976692e+06</td>\n",
       "    </tr>\n",
       "    <tr>\n",
       "      <th>std</th>\n",
       "      <td>1232.498479</td>\n",
       "      <td>1.695910</td>\n",
       "      <td>2.806840e+06</td>\n",
       "      <td>9.043363e+06</td>\n",
       "      <td>5.709187</td>\n",
       "      <td>172.430401</td>\n",
       "      <td>6.503637e+06</td>\n",
       "      <td>4.388966e+06</td>\n",
       "      <td>9.103754e+06</td>\n",
       "      <td>3.250185e+06</td>\n",
       "    </tr>\n",
       "    <tr>\n",
       "      <th>min</th>\n",
       "      <td>1.000000</td>\n",
       "      <td>0.000000</td>\n",
       "      <td>2.000000e+05</td>\n",
       "      <td>3.000000e+05</td>\n",
       "      <td>2.000000</td>\n",
       "      <td>300.000000</td>\n",
       "      <td>-1.000000e+05</td>\n",
       "      <td>0.000000e+00</td>\n",
       "      <td>3.000000e+05</td>\n",
       "      <td>0.000000e+00</td>\n",
       "    </tr>\n",
       "    <tr>\n",
       "      <th>25%</th>\n",
       "      <td>1068.000000</td>\n",
       "      <td>1.000000</td>\n",
       "      <td>2.700000e+06</td>\n",
       "      <td>7.700000e+06</td>\n",
       "      <td>6.000000</td>\n",
       "      <td>453.000000</td>\n",
       "      <td>2.200000e+06</td>\n",
       "      <td>1.300000e+06</td>\n",
       "      <td>7.500000e+06</td>\n",
       "      <td>2.300000e+06</td>\n",
       "    </tr>\n",
       "    <tr>\n",
       "      <th>50%</th>\n",
       "      <td>2135.000000</td>\n",
       "      <td>3.000000</td>\n",
       "      <td>5.100000e+06</td>\n",
       "      <td>1.450000e+07</td>\n",
       "      <td>10.000000</td>\n",
       "      <td>600.000000</td>\n",
       "      <td>5.600000e+06</td>\n",
       "      <td>3.700000e+06</td>\n",
       "      <td>1.460000e+07</td>\n",
       "      <td>4.600000e+06</td>\n",
       "    </tr>\n",
       "    <tr>\n",
       "      <th>75%</th>\n",
       "      <td>3202.000000</td>\n",
       "      <td>4.000000</td>\n",
       "      <td>7.500000e+06</td>\n",
       "      <td>2.150000e+07</td>\n",
       "      <td>16.000000</td>\n",
       "      <td>748.000000</td>\n",
       "      <td>1.130000e+07</td>\n",
       "      <td>7.600000e+06</td>\n",
       "      <td>2.170000e+07</td>\n",
       "      <td>7.100000e+06</td>\n",
       "    </tr>\n",
       "    <tr>\n",
       "      <th>max</th>\n",
       "      <td>4269.000000</td>\n",
       "      <td>5.000000</td>\n",
       "      <td>9.900000e+06</td>\n",
       "      <td>3.950000e+07</td>\n",
       "      <td>20.000000</td>\n",
       "      <td>900.000000</td>\n",
       "      <td>2.910000e+07</td>\n",
       "      <td>1.940000e+07</td>\n",
       "      <td>3.920000e+07</td>\n",
       "      <td>1.470000e+07</td>\n",
       "    </tr>\n",
       "  </tbody>\n",
       "</table>\n",
       "</div>"
      ],
      "text/plain": [
       "           loan_id   no_of_dependents   income_annum   loan_amount  \\\n",
       "count  4269.000000        4269.000000   4.269000e+03  4.269000e+03   \n",
       "mean   2135.000000           2.498712   5.059124e+06  1.513345e+07   \n",
       "std    1232.498479           1.695910   2.806840e+06  9.043363e+06   \n",
       "min       1.000000           0.000000   2.000000e+05  3.000000e+05   \n",
       "25%    1068.000000           1.000000   2.700000e+06  7.700000e+06   \n",
       "50%    2135.000000           3.000000   5.100000e+06  1.450000e+07   \n",
       "75%    3202.000000           4.000000   7.500000e+06  2.150000e+07   \n",
       "max    4269.000000           5.000000   9.900000e+06  3.950000e+07   \n",
       "\n",
       "         loan_term   cibil_score   residential_assets_value  \\\n",
       "count  4269.000000   4269.000000               4.269000e+03   \n",
       "mean     10.900445    599.936051               7.472617e+06   \n",
       "std       5.709187    172.430401               6.503637e+06   \n",
       "min       2.000000    300.000000              -1.000000e+05   \n",
       "25%       6.000000    453.000000               2.200000e+06   \n",
       "50%      10.000000    600.000000               5.600000e+06   \n",
       "75%      16.000000    748.000000               1.130000e+07   \n",
       "max      20.000000    900.000000               2.910000e+07   \n",
       "\n",
       "        commercial_assets_value   luxury_assets_value   bank_asset_value  \n",
       "count              4.269000e+03          4.269000e+03       4.269000e+03  \n",
       "mean               4.973155e+06          1.512631e+07       4.976692e+06  \n",
       "std                4.388966e+06          9.103754e+06       3.250185e+06  \n",
       "min                0.000000e+00          3.000000e+05       0.000000e+00  \n",
       "25%                1.300000e+06          7.500000e+06       2.300000e+06  \n",
       "50%                3.700000e+06          1.460000e+07       4.600000e+06  \n",
       "75%                7.600000e+06          2.170000e+07       7.100000e+06  \n",
       "max                1.940000e+07          3.920000e+07       1.470000e+07  "
      ]
     },
     "execution_count": 9,
     "metadata": {},
     "output_type": "execute_result"
    }
   ],
   "source": [
    "# Describe Data Set\n",
    "df.describe()"
   ]
  },
  {
   "cell_type": "markdown",
   "metadata": {
    "id": "18SiRG16BGvc"
   },
   "source": [
    "# **Data Preprocessing**"
   ]
  },
  {
   "cell_type": "markdown",
   "metadata": {
    "id": "NzKJXQ-Hk4N9"
   },
   "source": [
    "**null value and duplicates Treatment**"
   ]
  },
  {
   "cell_type": "code",
   "execution_count": 10,
   "metadata": {
    "colab": {
     "base_uri": "https://localhost:8080/",
     "height": 491
    },
    "executionInfo": {
     "elapsed": 35,
     "status": "ok",
     "timestamp": 1722845927771,
     "user": {
      "displayName": "kshma singh",
      "userId": "17750697602041806794"
     },
     "user_tz": -330
    },
    "id": "-lWpiGUFh-6_",
    "outputId": "e07c4bc4-fb9c-459a-aaf7-17cc17c903fd"
   },
   "outputs": [
    {
     "data": {
      "text/plain": [
       "loan_id                      0\n",
       " no_of_dependents            0\n",
       " education                   0\n",
       " self_employed               0\n",
       " income_annum                0\n",
       " loan_amount                 0\n",
       " loan_term                   0\n",
       " cibil_score                 0\n",
       " residential_assets_value    0\n",
       " commercial_assets_value     0\n",
       " luxury_assets_value         0\n",
       " bank_asset_value            0\n",
       " loan_status                 0\n",
       "dtype: int64"
      ]
     },
     "execution_count": 10,
     "metadata": {},
     "output_type": "execute_result"
    }
   ],
   "source": [
    "# Checking Null Values\n",
    "df.isnull().sum()"
   ]
  },
  {
   "cell_type": "code",
   "execution_count": 11,
   "metadata": {
    "colab": {
     "base_uri": "https://localhost:8080/"
    },
    "executionInfo": {
     "elapsed": 34,
     "status": "ok",
     "timestamp": 1722845927771,
     "user": {
      "displayName": "kshma singh",
      "userId": "17750697602041806794"
     },
     "user_tz": -330
    },
    "id": "azcr4OGpiGjr",
    "outputId": "4f0c5633-02da-4a49-dc08-6df3b60a1548"
   },
   "outputs": [
    {
     "data": {
      "text/plain": [
       "0"
      ]
     },
     "execution_count": 11,
     "metadata": {},
     "output_type": "execute_result"
    }
   ],
   "source": [
    "# Checking Duplicates\n",
    "df.duplicated().sum()"
   ]
  },
  {
   "cell_type": "code",
   "execution_count": 12,
   "metadata": {
    "colab": {
     "base_uri": "https://localhost:8080/",
     "height": 491
    },
    "executionInfo": {
     "elapsed": 30,
     "status": "ok",
     "timestamp": 1722845927771,
     "user": {
      "displayName": "kshma singh",
      "userId": "17750697602041806794"
     },
     "user_tz": -330
    },
    "id": "l3dVF5suyCvK",
    "outputId": "ecb039f2-478b-43d9-dc16-91997ec84f25"
   },
   "outputs": [
    {
     "data": {
      "text/plain": [
       "loan_id                      4269\n",
       " no_of_dependents               6\n",
       " education                      2\n",
       " self_employed                  2\n",
       " income_annum                  98\n",
       " loan_amount                  378\n",
       " loan_term                     10\n",
       " cibil_score                  601\n",
       " residential_assets_value     278\n",
       " commercial_assets_value      188\n",
       " luxury_assets_value          379\n",
       " bank_asset_value             146\n",
       " loan_status                    2\n",
       "dtype: int64"
      ]
     },
     "execution_count": 12,
     "metadata": {},
     "output_type": "execute_result"
    }
   ],
   "source": [
    "# Checking No of Unique values in each col\n",
    "df.nunique()"
   ]
  },
  {
   "cell_type": "code",
   "execution_count": 13,
   "metadata": {
    "executionInfo": {
     "elapsed": 28,
     "status": "ok",
     "timestamp": 1722845927771,
     "user": {
      "displayName": "kshma singh",
      "userId": "17750697602041806794"
     },
     "user_tz": -330
    },
    "id": "p70NNWVkyORw"
   },
   "outputs": [],
   "source": [
    "# Droping Loan Id from Df\n",
    "df.drop('loan_id', axis=1, inplace=True)"
   ]
  },
  {
   "cell_type": "code",
   "execution_count": 14,
   "metadata": {
    "colab": {
     "base_uri": "https://localhost:8080/"
    },
    "executionInfo": {
     "elapsed": 27,
     "status": "ok",
     "timestamp": 1722845927771,
     "user": {
      "displayName": "kshma singh",
      "userId": "17750697602041806794"
     },
     "user_tz": -330
    },
    "id": "eMf05mKMyfNK",
    "outputId": "08e38c53-601c-4166-c5bd-8074d13d4c83"
   },
   "outputs": [
    {
     "data": {
      "text/plain": [
       "Index([' no_of_dependents', ' education', ' self_employed', ' income_annum',\n",
       "       ' loan_amount', ' loan_term', ' cibil_score',\n",
       "       ' residential_assets_value', ' commercial_assets_value',\n",
       "       ' luxury_assets_value', ' bank_asset_value', ' loan_status'],\n",
       "      dtype='object')"
      ]
     },
     "execution_count": 14,
     "metadata": {},
     "output_type": "execute_result"
    }
   ],
   "source": [
    "# Avail Cols in Df\n",
    "df.columns"
   ]
  },
  {
   "cell_type": "code",
   "execution_count": 15,
   "metadata": {
    "colab": {
     "base_uri": "https://localhost:8080/"
    },
    "executionInfo": {
     "elapsed": 24,
     "status": "ok",
     "timestamp": 1722845927771,
     "user": {
      "displayName": "kshma singh",
      "userId": "17750697602041806794"
     },
     "user_tz": -330
    },
    "id": "3iKp1cLoyk5b",
    "outputId": "b0487775-1629-4b15-c09a-338b618970a7"
   },
   "outputs": [
    {
     "data": {
      "text/plain": [
       "Index(['no_of_dependents', 'education', 'self_employed', 'income_annum',\n",
       "       'loan_amount', 'loan_term', 'cibil_score', 'residential_assets_value',\n",
       "       'commercial_assets_value', 'luxury_assets_value', 'bank_asset_value',\n",
       "       'loan_status'],\n",
       "      dtype='object')"
      ]
     },
     "execution_count": 15,
     "metadata": {},
     "output_type": "execute_result"
    }
   ],
   "source": [
    "# correcting col names format\n",
    "df.columns = df.columns.str.strip()\n",
    "df.columns"
   ]
  },
  {
   "cell_type": "code",
   "execution_count": 16,
   "metadata": {},
   "outputs": [],
   "source": [
    "# Removing extra Space from oject col data\n",
    "cols =['loan_status', 'education','self_employed']\n",
    "for i in cols:\n",
    "    df[i] = df[i].str.strip()"
   ]
  },
  {
   "cell_type": "code",
   "execution_count": 17,
   "metadata": {},
   "outputs": [
    {
     "name": "stdout",
     "output_type": "stream",
     "text": [
      "loan_status- Rejected (%): 37.78402436167721\n",
      "loan_status-Approved (%): 62.215975638322796\n"
     ]
    }
   ],
   "source": [
    "# value count %\n",
    "print('loan_status- Rejected (%):',(df['loan_status'].value_counts()['Rejected']/df['loan_status'].shape[0])*100)\n",
    "print('loan_status-Approved (%):',(df['loan_status'].value_counts()['Approved']/df['loan_status'].shape[0])*100)"
   ]
  },
  {
   "cell_type": "markdown",
   "metadata": {
    "id": "GkS_VwmRvLLV"
   },
   "source": [
    "**Checking Non-Numerical Cols**\n",
    "\n",
    "\n"
   ]
  },
  {
   "cell_type": "code",
   "execution_count": 18,
   "metadata": {
    "colab": {
     "base_uri": "https://localhost:8080/"
    },
    "executionInfo": {
     "elapsed": 22,
     "status": "ok",
     "timestamp": 1722845927772,
     "user": {
      "displayName": "kshma singh",
      "userId": "17750697602041806794"
     },
     "user_tz": -330
    },
    "id": "Tyg-KaskiQkB",
    "outputId": "f8c6f727-1387-49e0-d6d2-3f0fec6559e3"
   },
   "outputs": [
    {
     "name": "stdout",
     "output_type": "stream",
     "text": [
      "Index(['education', 'self_employed', 'loan_status'], dtype='object')\n"
     ]
    }
   ],
   "source": [
    "cols =df.select_dtypes(include='object').columns\n",
    "print(cols)"
   ]
  },
  {
   "cell_type": "code",
   "execution_count": 19,
   "metadata": {
    "colab": {
     "base_uri": "https://localhost:8080/",
     "height": 850
    },
    "executionInfo": {
     "elapsed": 967,
     "status": "ok",
     "timestamp": 1722845928721,
     "user": {
      "displayName": "kshma singh",
      "userId": "17750697602041806794"
     },
     "user_tz": -330
    },
    "id": "0WwGZqk6vO3Y",
    "outputId": "760bff27-956d-4640-d367-c57a3e0956d7"
   },
   "outputs": [
    {
     "data": {
      "image/png": "[encoded data removed]",
      "text/plain": [
       "<Figure size 1200x1500 with 3 Axes>"
      ]
     },
     "metadata": {},
     "output_type": "display_data"
    }
   ],
   "source": [
    "# Count Plot for non- numerical Cols\n",
    "plt.figure(figsize=(12,15))\n",
    "for i in range(len(cols)):\n",
    "    plt.subplot(3,2,i+1)\n",
    "    ax = sns.countplot(x=df[cols[i]])\n",
    "    ax.bar_label(ax.containers[0])\n",
    "    plt.title(f'Countplot for {cols[i]}')\n",
    "plt.show()"
   ]
  },
  {
   "cell_type": "markdown",
   "metadata": {
    "id": "hkMwL0A3xC4y"
   },
   "source": [
    "**Checking Numerical Cols**"
   ]
  },
  {
   "cell_type": "code",
   "execution_count": 20,
   "metadata": {
    "colab": {
     "base_uri": "https://localhost:8080/"
    },
    "executionInfo": {
     "elapsed": 6,
     "status": "ok",
     "timestamp": 1722845928721,
     "user": {
      "displayName": "kshma singh",
      "userId": "17750697602041806794"
     },
     "user_tz": -330
    },
    "id": "h2sm1p0QvvGI",
    "outputId": "a4bdc129-dfb9-42f7-d82f-1aab98741784"
   },
   "outputs": [
    {
     "name": "stdout",
     "output_type": "stream",
     "text": [
      "Index(['no_of_dependents', 'income_annum', 'loan_amount', 'loan_term',\n",
      "       'cibil_score', 'residential_assets_value', 'commercial_assets_value',\n",
      "       'luxury_assets_value', 'bank_asset_value'],\n",
      "      dtype='object')\n"
     ]
    }
   ],
   "source": [
    "num_cols =df.select_dtypes(exclude='object').columns\n",
    "print(num_cols)"
   ]
  },
  {
   "cell_type": "code",
   "execution_count": 21,
   "metadata": {
    "colab": {
     "base_uri": "https://localhost:8080/",
     "height": 1000
    },
    "executionInfo": {
     "elapsed": 2817,
     "status": "ok",
     "timestamp": 1722845931533,
     "user": {
      "displayName": "kshma singh",
      "userId": "17750697602041806794"
     },
     "user_tz": -330
    },
    "id": "SquRN09Tx-zi",
    "outputId": "cd80b514-7d68-444a-ac60-7bd015f09ce0"
   },
   "outputs": [
    {
     "data": {
      "image/png": "[encoded data removed]",
      "text/plain": [
       "<Figure size 1000x2500 with 9 Axes>"
      ]
     },
     "metadata": {},
     "output_type": "display_data"
    }
   ],
   "source": [
    "# Box Plot for numerical Cols\n",
    "plt.figure(figsize=(10,25))\n",
    "for i in range(len(num_cols)):\n",
    "    plt.subplot(5,2,i+1)\n",
    "    ax = sns.boxplot(x=df[num_cols[i]])\n",
    "    plt.title(f'Box plot for {num_cols[i]}')\n",
    "plt.show()"
   ]
  },
  {
   "cell_type": "code",
   "execution_count": 22,
   "metadata": {
    "colab": {
     "base_uri": "https://localhost:8080/",
     "height": 163
    },
    "executionInfo": {
     "elapsed": 54,
     "status": "ok",
     "timestamp": 1722845931533,
     "user": {
      "displayName": "kshma singh",
      "userId": "17750697602041806794"
     },
     "user_tz": -330
    },
    "id": "YA3WQVoZz_H0",
    "outputId": "85e206bd-6764-42b6-dabc-8682e23abb26"
   },
   "outputs": [
    {
     "data": {
      "text/html": [
       "<div>\n",
       "<style scoped>\n",
       "    .dataframe tbody tr th:only-of-type {\n",
       "        vertical-align: middle;\n",
       "    }\n",
       "\n",
       "    .dataframe tbody tr th {\n",
       "        vertical-align: top;\n",
       "    }\n",
       "\n",
       "    .dataframe thead th {\n",
       "        text-align: right;\n",
       "    }\n",
       "</style>\n",
       "<table border=\"1\" class=\"dataframe\">\n",
       "  <thead>\n",
       "    <tr style=\"text-align: right;\">\n",
       "      <th></th>\n",
       "      <th>min</th>\n",
       "      <th>50%</th>\n",
       "      <th>75%</th>\n",
       "      <th>80%</th>\n",
       "      <th>85%</th>\n",
       "      <th>90%</th>\n",
       "      <th>95%</th>\n",
       "      <th>97%</th>\n",
       "      <th>98%</th>\n",
       "      <th>99%</th>\n",
       "      <th>max</th>\n",
       "    </tr>\n",
       "  </thead>\n",
       "  <tbody>\n",
       "    <tr>\n",
       "      <th>residential_assets_value</th>\n",
       "      <td>-100000.0</td>\n",
       "      <td>5600000.0</td>\n",
       "      <td>11300000.0</td>\n",
       "      <td>12940000.0</td>\n",
       "      <td>14800000.0</td>\n",
       "      <td>17200000.0</td>\n",
       "      <td>21260000.0</td>\n",
       "      <td>22900000.0</td>\n",
       "      <td>23964000.0</td>\n",
       "      <td>25400000.0</td>\n",
       "      <td>29100000.0</td>\n",
       "    </tr>\n",
       "    <tr>\n",
       "      <th>commercial_assets_value</th>\n",
       "      <td>0.0</td>\n",
       "      <td>3700000.0</td>\n",
       "      <td>7600000.0</td>\n",
       "      <td>8800000.0</td>\n",
       "      <td>10080000.0</td>\n",
       "      <td>11700000.0</td>\n",
       "      <td>13900000.0</td>\n",
       "      <td>15296000.0</td>\n",
       "      <td>16100000.0</td>\n",
       "      <td>16732000.0</td>\n",
       "      <td>19400000.0</td>\n",
       "    </tr>\n",
       "    <tr>\n",
       "      <th>bank_asset_value</th>\n",
       "      <td>0.0</td>\n",
       "      <td>4600000.0</td>\n",
       "      <td>7100000.0</td>\n",
       "      <td>7800000.0</td>\n",
       "      <td>8700000.0</td>\n",
       "      <td>9700000.0</td>\n",
       "      <td>11100000.0</td>\n",
       "      <td>11900000.0</td>\n",
       "      <td>12400000.0</td>\n",
       "      <td>13100000.0</td>\n",
       "      <td>14700000.0</td>\n",
       "    </tr>\n",
       "  </tbody>\n",
       "</table>\n",
       "</div>"
      ],
      "text/plain": [
       "                               min        50%         75%         80%  \\\n",
       "residential_assets_value -100000.0  5600000.0  11300000.0  12940000.0   \n",
       "commercial_assets_value        0.0  3700000.0   7600000.0   8800000.0   \n",
       "bank_asset_value               0.0  4600000.0   7100000.0   7800000.0   \n",
       "\n",
       "                                 85%         90%         95%         97%  \\\n",
       "residential_assets_value  14800000.0  17200000.0  21260000.0  22900000.0   \n",
       "commercial_assets_value   10080000.0  11700000.0  13900000.0  15296000.0   \n",
       "bank_asset_value           8700000.0   9700000.0  11100000.0  11900000.0   \n",
       "\n",
       "                                 98%         99%         max  \n",
       "residential_assets_value  23964000.0  25400000.0  29100000.0  \n",
       "commercial_assets_value   16100000.0  16732000.0  19400000.0  \n",
       "bank_asset_value          12400000.0  13100000.0  14700000.0  "
      ]
     },
     "execution_count": 22,
     "metadata": {},
     "output_type": "execute_result"
    }
   ],
   "source": [
    "# desc diff per of data\n",
    "cols_with_outliers = ['residential_assets_value','commercial_assets_value', 'bank_asset_value']\n",
    "a1 = df[cols_with_outliers].describe(percentiles=[0.75,0.80,0.85,0.90,\n",
    "                                    0.95,0.97,0.98,0.99]).T\n",
    "a1 = a1.iloc[:,3:]\n",
    "a1"
   ]
  },
  {
   "cell_type": "code",
   "execution_count": 23,
   "metadata": {
    "colab": {
     "base_uri": "https://localhost:8080/"
    },
    "executionInfo": {
     "elapsed": 53,
     "status": "ok",
     "timestamp": 1722845931533,
     "user": {
      "displayName": "kshma singh",
      "userId": "17750697602041806794"
     },
     "user_tz": -330
    },
    "id": "KuIO1Qec24h4",
    "outputId": "08763a87-56d7-4b48-b0eb-888d41501d5c"
   },
   "outputs": [
    {
     "name": "stdout",
     "output_type": "stream",
     "text": [
      "residential_assets_value: 40\n",
      "commercial_assets_value: 43\n",
      "bank_asset_value: 41\n"
     ]
    }
   ],
   "source": [
    "# Checking the count\n",
    "print('residential_assets_value:', df[df['residential_assets_value']>25400000.0].shape[0])\n",
    "print('commercial_assets_value:',df[df['commercial_assets_value']>16732000.0].shape[0])\n",
    "print('bank_asset_value:', df[df['bank_asset_value']>13100000.0].shape[0])\n"
   ]
  },
  {
   "cell_type": "code",
   "execution_count": 24,
   "metadata": {
    "executionInfo": {
     "elapsed": 51,
     "status": "ok",
     "timestamp": 1722845931533,
     "user": {
      "displayName": "kshma singh",
      "userId": "17750697602041806794"
     },
     "user_tz": -330
    },
    "id": "GkG-TLMt3X8i"
   },
   "outputs": [],
   "source": [
    "# Treating Ouliers\n",
    "df['residential_assets_value'] = np.where(df['residential_assets_value']>25400000.0, 25400000.0, df['residential_assets_value'])\n",
    "df['commercial_assets_value'] = np.where(df['commercial_assets_value']>16732000.0, 16732000.0, df['commercial_assets_value'])\n",
    "df['bank_asset_value'] = np.where(df['bank_asset_value']>13100000.0, 13100000.0, df['bank_asset_value'])"
   ]
  },
  {
   "cell_type": "code",
   "execution_count": 25,
   "metadata": {
    "colab": {
     "base_uri": "https://localhost:8080/",
     "height": 1000
    },
    "executionInfo": {
     "elapsed": 51,
     "status": "ok",
     "timestamp": 1722845931533,
     "user": {
      "displayName": "kshma singh",
      "userId": "17750697602041806794"
     },
     "user_tz": -330
    },
    "id": "fuPkKONK4WB-",
    "outputId": "89187431-a4b0-4dfe-fc31-f91c16df4bdd"
   },
   "outputs": [
    {
     "data": {
      "image/png": "[encoded data removed]",
      "text/plain": [
       "<Figure size 1000x1200 with 3 Axes>"
      ]
     },
     "metadata": {},
     "output_type": "display_data"
    }
   ],
   "source": [
    "# Box Plot after treating outliers\n",
    "plt.figure(figsize=(10,12))\n",
    "for i in range(len(cols_with_outliers)):\n",
    "    plt.subplot(2,2,i+1)\n",
    "    ax = sns.boxplot(x=df[cols_with_outliers[i]])\n",
    "    plt.title(f'Box plot for {cols_with_outliers[i]}')\n",
    "plt.show()"
   ]
  },
  {
   "cell_type": "code",
   "execution_count": 26,
   "metadata": {},
   "outputs": [
    {
     "data": {
      "image/png": "[encoded data removed]",
      "text/plain": [
       "<Figure size 1200x800 with 2 Axes>"
      ]
     },
     "metadata": {},
     "output_type": "display_data"
    }
   ],
   "source": [
    "# Calculate the correlation matrix\n",
    "correlation_matrix = df.corr()\n",
    "\n",
    "# Set up the matplotlib figure\n",
    "plt.figure(figsize=(12, 8))\n",
    "\n",
    "# Draw the heatmap with the correlation matrix\n",
    "sns.heatmap(correlation_matrix, annot=True, cmap='inferno', linewidths=0.5)\n",
    "\n",
    "# Display the heatmap\n",
    "plt.title('Correlation Matrix Heatmap')\n",
    "plt.show()"
   ]
  },
  {
   "cell_type": "markdown",
   "metadata": {
    "id": "SIUE9jNj6bSu"
   },
   "source": [
    "**Column Encoding**\n",
    "\n",
    "\n"
   ]
  },
  {
   "cell_type": "code",
   "execution_count": 27,
   "metadata": {
    "colab": {
     "base_uri": "https://localhost:8080/",
     "height": 460
    },
    "executionInfo": {
     "elapsed": 50,
     "status": "ok",
     "timestamp": 1722845931533,
     "user": {
      "displayName": "kshma singh",
      "userId": "17750697602041806794"
     },
     "user_tz": -330
    },
    "id": "dj73yuTy4ZlO",
    "outputId": "79b88904-f307-4e29-f605-c87ba069901c"
   },
   "outputs": [
    {
     "data": {
      "text/plain": [
       "no_of_dependents              int64\n",
       "education                    object\n",
       "self_employed                object\n",
       "income_annum                  int64\n",
       "loan_amount                   int64\n",
       "loan_term                     int64\n",
       "cibil_score                   int64\n",
       "residential_assets_value    float64\n",
       "commercial_assets_value     float64\n",
       "luxury_assets_value           int64\n",
       "bank_asset_value            float64\n",
       "loan_status                  object\n",
       "dtype: object"
      ]
     },
     "execution_count": 27,
     "metadata": {},
     "output_type": "execute_result"
    }
   ],
   "source": [
    "df.dtypes"
   ]
  },
  {
   "cell_type": "code",
   "execution_count": 28,
   "metadata": {
    "colab": {
     "base_uri": "https://localhost:8080/"
    },
    "executionInfo": {
     "elapsed": 50,
     "status": "ok",
     "timestamp": 1722845931534,
     "user": {
      "displayName": "kshma singh",
      "userId": "17750697602041806794"
     },
     "user_tz": -330
    },
    "id": "v-ZjO3U56trv",
    "outputId": "967cd226-5a72-422f-a8b3-45ebb4b89643"
   },
   "outputs": [
    {
     "data": {
      "text/plain": [
       "array(['Graduate', 'Not Graduate'], dtype=object)"
      ]
     },
     "execution_count": 28,
     "metadata": {},
     "output_type": "execute_result"
    }
   ],
   "source": [
    "# education\n",
    "df['education'].unique()"
   ]
  },
  {
   "cell_type": "code",
   "execution_count": 29,
   "metadata": {
    "colab": {
     "base_uri": "https://localhost:8080/",
     "height": 178
    },
    "executionInfo": {
     "elapsed": 47,
     "status": "ok",
     "timestamp": 1722845931534,
     "user": {
      "displayName": "kshma singh",
      "userId": "17750697602041806794"
     },
     "user_tz": -330
    },
    "id": "yTq3kl95SbJ8",
    "outputId": "172c73b9-c95c-4221-ca24-01ac8c9ae13a"
   },
   "outputs": [
    {
     "data": {
      "text/plain": [
       "Graduate        2144\n",
       "Not Graduate    2125\n",
       "Name: education, dtype: int64"
      ]
     },
     "execution_count": 29,
     "metadata": {},
     "output_type": "execute_result"
    }
   ],
   "source": [
    "df['education'].value_counts()"
   ]
  },
  {
   "cell_type": "code",
   "execution_count": 30,
   "metadata": {
    "colab": {
     "base_uri": "https://localhost:8080/"
    },
    "executionInfo": {
     "elapsed": 46,
     "status": "ok",
     "timestamp": 1722845931534,
     "user": {
      "displayName": "kshma singh",
      "userId": "17750697602041806794"
     },
     "user_tz": -330
    },
    "id": "dyB0fro168mW",
    "outputId": "af2cbfb7-0ac9-41cc-df38-429e390e8f06"
   },
   "outputs": [
    {
     "data": {
      "text/plain": [
       "array(['No', 'Yes'], dtype=object)"
      ]
     },
     "execution_count": 30,
     "metadata": {},
     "output_type": "execute_result"
    }
   ],
   "source": [
    "# self_employed\n",
    "df['self_employed'].unique()"
   ]
  },
  {
   "cell_type": "code",
   "execution_count": 31,
   "metadata": {
    "colab": {
     "base_uri": "https://localhost:8080/",
     "height": 178
    },
    "executionInfo": {
     "elapsed": 41,
     "status": "ok",
     "timestamp": 1722845931534,
     "user": {
      "displayName": "kshma singh",
      "userId": "17750697602041806794"
     },
     "user_tz": -330
    },
    "id": "nbeigq4BSPhC",
    "outputId": "2e05172f-cf83-4f1b-fecb-aabb4f9f6ba2"
   },
   "outputs": [
    {
     "data": {
      "text/plain": [
       "Yes    2150\n",
       "No     2119\n",
       "Name: self_employed, dtype: int64"
      ]
     },
     "execution_count": 31,
     "metadata": {},
     "output_type": "execute_result"
    }
   ],
   "source": [
    "df['self_employed'].value_counts()"
   ]
  },
  {
   "cell_type": "code",
   "execution_count": 32,
   "metadata": {
    "colab": {
     "base_uri": "https://localhost:8080/"
    },
    "executionInfo": {
     "elapsed": 40,
     "status": "ok",
     "timestamp": 1722845931534,
     "user": {
      "displayName": "kshma singh",
      "userId": "17750697602041806794"
     },
     "user_tz": -330
    },
    "id": "614vUg_0-GFf",
    "outputId": "684ea233-8e47-4312-f255-cb181155c4c9"
   },
   "outputs": [
    {
     "data": {
      "text/plain": [
       "array(['Approved', 'Rejected'], dtype=object)"
      ]
     },
     "execution_count": 32,
     "metadata": {},
     "output_type": "execute_result"
    }
   ],
   "source": [
    "# loan_status - Target Variabel\n",
    "df['loan_status'].unique()"
   ]
  },
  {
   "cell_type": "code",
   "execution_count": 33,
   "metadata": {
    "colab": {
     "base_uri": "https://localhost:8080/",
     "height": 178
    },
    "executionInfo": {
     "elapsed": 37,
     "status": "ok",
     "timestamp": 1722845931534,
     "user": {
      "displayName": "kshma singh",
      "userId": "17750697602041806794"
     },
     "user_tz": -330
    },
    "id": "1eWSzx3VSG3v",
    "outputId": "20609ece-f724-49ac-c916-6b8666a11ba8"
   },
   "outputs": [
    {
     "data": {
      "text/plain": [
       "Approved    2656\n",
       "Rejected    1613\n",
       "Name: loan_status, dtype: int64"
      ]
     },
     "execution_count": 33,
     "metadata": {},
     "output_type": "execute_result"
    }
   ],
   "source": [
    "df['loan_status'].value_counts()"
   ]
  },
  {
   "cell_type": "code",
   "execution_count": 34,
   "metadata": {
    "executionInfo": {
     "elapsed": 37,
     "status": "ok",
     "timestamp": 1722845931534,
     "user": {
      "displayName": "kshma singh",
      "userId": "17750697602041806794"
     },
     "user_tz": -330
    },
    "id": "XaMwo_cu7bSB"
   },
   "outputs": [],
   "source": [
    "# Encoding  Columns\n",
    "df_encoded = df.copy()\n",
    "# education\n",
    "df_encoded.loc[df_encoded['education']=='Graduate', 'education'] = 1\n",
    "df_encoded.loc[df_encoded['education']=='Not Graduate', 'education'] = 0\n",
    "\n",
    "# self_employed\n",
    "df_encoded.loc[df_encoded['self_employed']=='Yes', 'self_employed'] = 1\n",
    "df_encoded.loc[df_encoded['self_employed']=='No', 'self_employed'] = 0\n",
    "\n",
    "# Loan_status\n",
    "df_encoded.loc[df_encoded['loan_status']=='Approved', 'loan_status'] = 1\n",
    "df_encoded.loc[df_encoded['loan_status']=='Rejected', 'loan_status'] = 0"
   ]
  },
  {
   "cell_type": "code",
   "execution_count": 35,
   "metadata": {
    "colab": {
     "base_uri": "https://localhost:8080/"
    },
    "executionInfo": {
     "elapsed": 36,
     "status": "ok",
     "timestamp": 1722845931534,
     "user": {
      "displayName": "kshma singh",
      "userId": "17750697602041806794"
     },
     "user_tz": -330
    },
    "id": "zDmPaaW18PCe",
    "outputId": "2bc0fb4a-ff08-40de-b139-f2348ee10da8"
   },
   "outputs": [
    {
     "name": "stdout",
     "output_type": "stream",
     "text": [
      "(4269, 12)\n",
      "Index(['no_of_dependents', 'education', 'self_employed', 'income_annum',\n",
      "       'loan_amount', 'loan_term', 'cibil_score', 'residential_assets_value',\n",
      "       'commercial_assets_value', 'luxury_assets_value', 'bank_asset_value',\n",
      "       'loan_status'],\n",
      "      dtype='object')\n"
     ]
    }
   ],
   "source": [
    "print(df_encoded.shape)\n",
    "print(df_encoded.columns)"
   ]
  },
  {
   "cell_type": "code",
   "execution_count": 36,
   "metadata": {
    "colab": {
     "base_uri": "https://localhost:8080/",
     "height": 226
    },
    "executionInfo": {
     "elapsed": 34,
     "status": "ok",
     "timestamp": 1722845931534,
     "user": {
      "displayName": "kshma singh",
      "userId": "17750697602041806794"
     },
     "user_tz": -330
    },
    "id": "zfS8rjAy90zK",
    "outputId": "6508233e-d386-4bd9-bd38-8f4164b84a56"
   },
   "outputs": [
    {
     "data": {
      "text/html": [
       "<div>\n",
       "<style scoped>\n",
       "    .dataframe tbody tr th:only-of-type {\n",
       "        vertical-align: middle;\n",
       "    }\n",
       "\n",
       "    .dataframe tbody tr th {\n",
       "        vertical-align: top;\n",
       "    }\n",
       "\n",
       "    .dataframe thead th {\n",
       "        text-align: right;\n",
       "    }\n",
       "</style>\n",
       "<table border=\"1\" class=\"dataframe\">\n",
       "  <thead>\n",
       "    <tr style=\"text-align: right;\">\n",
       "      <th></th>\n",
       "      <th>no_of_dependents</th>\n",
       "      <th>education</th>\n",
       "      <th>self_employed</th>\n",
       "      <th>income_annum</th>\n",
       "      <th>loan_amount</th>\n",
       "      <th>loan_term</th>\n",
       "      <th>cibil_score</th>\n",
       "      <th>residential_assets_value</th>\n",
       "      <th>commercial_assets_value</th>\n",
       "      <th>luxury_assets_value</th>\n",
       "      <th>bank_asset_value</th>\n",
       "      <th>loan_status</th>\n",
       "    </tr>\n",
       "  </thead>\n",
       "  <tbody>\n",
       "    <tr>\n",
       "      <th>0</th>\n",
       "      <td>2</td>\n",
       "      <td>1</td>\n",
       "      <td>0</td>\n",
       "      <td>9600000</td>\n",
       "      <td>29900000</td>\n",
       "      <td>12</td>\n",
       "      <td>778</td>\n",
       "      <td>2400000.0</td>\n",
       "      <td>16732000.0</td>\n",
       "      <td>22700000</td>\n",
       "      <td>8000000.0</td>\n",
       "      <td>1</td>\n",
       "    </tr>\n",
       "    <tr>\n",
       "      <th>1</th>\n",
       "      <td>0</td>\n",
       "      <td>0</td>\n",
       "      <td>1</td>\n",
       "      <td>4100000</td>\n",
       "      <td>12200000</td>\n",
       "      <td>8</td>\n",
       "      <td>417</td>\n",
       "      <td>2700000.0</td>\n",
       "      <td>2200000.0</td>\n",
       "      <td>8800000</td>\n",
       "      <td>3300000.0</td>\n",
       "      <td>0</td>\n",
       "    </tr>\n",
       "    <tr>\n",
       "      <th>2</th>\n",
       "      <td>3</td>\n",
       "      <td>1</td>\n",
       "      <td>0</td>\n",
       "      <td>9100000</td>\n",
       "      <td>29700000</td>\n",
       "      <td>20</td>\n",
       "      <td>506</td>\n",
       "      <td>7100000.0</td>\n",
       "      <td>4500000.0</td>\n",
       "      <td>33300000</td>\n",
       "      <td>12800000.0</td>\n",
       "      <td>0</td>\n",
       "    </tr>\n",
       "    <tr>\n",
       "      <th>3</th>\n",
       "      <td>3</td>\n",
       "      <td>1</td>\n",
       "      <td>0</td>\n",
       "      <td>8200000</td>\n",
       "      <td>30700000</td>\n",
       "      <td>8</td>\n",
       "      <td>467</td>\n",
       "      <td>18200000.0</td>\n",
       "      <td>3300000.0</td>\n",
       "      <td>23300000</td>\n",
       "      <td>7900000.0</td>\n",
       "      <td>0</td>\n",
       "    </tr>\n",
       "    <tr>\n",
       "      <th>4</th>\n",
       "      <td>5</td>\n",
       "      <td>0</td>\n",
       "      <td>1</td>\n",
       "      <td>9800000</td>\n",
       "      <td>24200000</td>\n",
       "      <td>20</td>\n",
       "      <td>382</td>\n",
       "      <td>12400000.0</td>\n",
       "      <td>8200000.0</td>\n",
       "      <td>29400000</td>\n",
       "      <td>5000000.0</td>\n",
       "      <td>0</td>\n",
       "    </tr>\n",
       "  </tbody>\n",
       "</table>\n",
       "</div>"
      ],
      "text/plain": [
       "   no_of_dependents education self_employed  income_annum  loan_amount  \\\n",
       "0                 2         1             0       9600000     29900000   \n",
       "1                 0         0             1       4100000     12200000   \n",
       "2                 3         1             0       9100000     29700000   \n",
       "3                 3         1             0       8200000     30700000   \n",
       "4                 5         0             1       9800000     24200000   \n",
       "\n",
       "   loan_term  cibil_score  residential_assets_value  commercial_assets_value  \\\n",
       "0         12          778                 2400000.0               16732000.0   \n",
       "1          8          417                 2700000.0                2200000.0   \n",
       "2         20          506                 7100000.0                4500000.0   \n",
       "3          8          467                18200000.0                3300000.0   \n",
       "4         20          382                12400000.0                8200000.0   \n",
       "\n",
       "   luxury_assets_value  bank_asset_value loan_status  \n",
       "0             22700000         8000000.0           1  \n",
       "1              8800000         3300000.0           0  \n",
       "2             33300000        12800000.0           0  \n",
       "3             23300000         7900000.0           0  \n",
       "4             29400000         5000000.0           0  "
      ]
     },
     "execution_count": 36,
     "metadata": {},
     "output_type": "execute_result"
    }
   ],
   "source": [
    "df_encoded.head()"
   ]
  },
  {
   "cell_type": "code",
   "execution_count": 37,
   "metadata": {
    "colab": {
     "base_uri": "https://localhost:8080/"
    },
    "executionInfo": {
     "elapsed": 34,
     "status": "ok",
     "timestamp": 1722845931534,
     "user": {
      "displayName": "kshma singh",
      "userId": "17750697602041806794"
     },
     "user_tz": -330
    },
    "id": "edbOzLi_Pepx",
    "outputId": "e2f66787-449b-4b0b-a772-aa9023e05c13"
   },
   "outputs": [
    {
     "name": "stdout",
     "output_type": "stream",
     "text": [
      "loan_status-0 (%): 37.78402436167721\n",
      "loan_status-1 (%): 62.215975638322796\n"
     ]
    }
   ],
   "source": [
    "# value count %\n",
    "print('loan_status-0 (%):',(df_encoded['loan_status'].value_counts()[0]/df_encoded['loan_status'].shape[0])*100)\n",
    "print('loan_status-1 (%):',(df_encoded['loan_status'].value_counts()[1]/df_encoded['loan_status'].shape[0])*100)"
   ]
  },
  {
   "cell_type": "markdown",
   "metadata": {
    "id": "xwk0SRul-tcl"
   },
   "source": [
    "**Dividing Data Into Independent and Dependent Variables**"
   ]
  },
  {
   "cell_type": "code",
   "execution_count": 38,
   "metadata": {
    "colab": {
     "base_uri": "https://localhost:8080/"
    },
    "executionInfo": {
     "elapsed": 32,
     "status": "ok",
     "timestamp": 1722845931534,
     "user": {
      "displayName": "kshma singh",
      "userId": "17750697602041806794"
     },
     "user_tz": -330
    },
    "id": "aQ-5VYQW97sm",
    "outputId": "58b94445-28bc-424a-9549-6e9f3dba6164"
   },
   "outputs": [
    {
     "name": "stdout",
     "output_type": "stream",
     "text": [
      "(4269, 11)\n",
      "(4269,)\n"
     ]
    }
   ],
   "source": [
    "x = df_encoded.drop(['loan_status'],axis=1)\n",
    "y = df_encoded['loan_status'].astype('category')\n",
    "print(x.shape)\n",
    "print(y.shape)"
   ]
  },
  {
   "cell_type": "markdown",
   "metadata": {
    "id": "jrvETMB3--Mf"
   },
   "source": [
    "**Train Test Split**"
   ]
  },
  {
   "cell_type": "code",
   "execution_count": 39,
   "metadata": {
    "colab": {
     "base_uri": "https://localhost:8080/"
    },
    "executionInfo": {
     "elapsed": 31,
     "status": "ok",
     "timestamp": 1722845931534,
     "user": {
      "displayName": "kshma singh",
      "userId": "17750697602041806794"
     },
     "user_tz": -330
    },
    "id": "vh5uW2A4-4qu",
    "outputId": "11946eac-6079-4c84-be61-2bfd0420d024"
   },
   "outputs": [
    {
     "name": "stdout",
     "output_type": "stream",
     "text": [
      "(2988, 11)\n",
      "(1281, 11)\n",
      "(2988,)\n",
      "(1281,)\n"
     ]
    }
   ],
   "source": [
    "# Spliting Data into train and test\n",
    "x_train,x_test,y_train,y_test = train_test_split(x,y,test_size=0.3, random_state=42)\n",
    "print(x_train.shape)\n",
    "print(x_test.shape)\n",
    "print(y_train.shape)\n",
    "print(y_test.shape)"
   ]
  },
  {
   "cell_type": "markdown",
   "metadata": {
    "id": "r0uqMzLs_flw"
   },
   "source": [
    "**Data Scaling**"
   ]
  },
  {
   "cell_type": "code",
   "execution_count": 40,
   "metadata": {
    "executionInfo": {
     "elapsed": 31,
     "status": "ok",
     "timestamp": 1722845931535,
     "user": {
      "displayName": "kshma singh",
      "userId": "17750697602041806794"
     },
     "user_tz": -330
    },
    "id": "-bqDbOhN_OvT"
   },
   "outputs": [],
   "source": [
    "# Standard Scaler\n",
    "sc = StandardScaler()\n",
    "x_train_sc = sc.fit_transform(x_train)\n",
    "x_test_sc = sc.transform(x_test)"
   ]
  },
  {
   "cell_type": "code",
   "execution_count": 41,
   "metadata": {
    "colab": {
     "base_uri": "https://localhost:8080/"
    },
    "executionInfo": {
     "elapsed": 30,
     "status": "ok",
     "timestamp": 1722845931535,
     "user": {
      "displayName": "kshma singh",
      "userId": "17750697602041806794"
     },
     "user_tz": -330
    },
    "id": "2mv26COJ_4TX",
    "outputId": "c2ebddd8-b88d-4b27-c64d-ab232f4421d6"
   },
   "outputs": [
    {
     "data": {
      "text/plain": [
       "array([[ 0.93571344, -1.00739009, -1.0148356 , -0.80804784, -0.76001369,\n",
       "         0.52634731, -1.2697434 , -0.65125658, -0.88698622, -0.66673165,\n",
       "        -1.07420357],\n",
       "       [ 0.3421016 , -1.00739009,  0.98538127,  1.70947574,  0.57116269,\n",
       "        -1.22540782,  1.52250274,  2.75688138, -0.31131619,  2.32080181,\n",
       "         2.42498978],\n",
       "       [ 0.93571344,  0.99266412,  0.98538127, -0.55984129, -0.4959787 ,\n",
       "        -0.52470577,  1.6263466 , -1.11181576, -0.61066461, -0.7430555 ,\n",
       "        -0.919372  ],\n",
       "       [ 0.3421016 , -1.00739009, -1.0148356 ,  0.46844299,  0.85720059,\n",
       "        -0.52470577, -0.467838  ,  0.715069  ,  1.48477431,  0.08560342,\n",
       "        -0.36197837],\n",
       "       [-0.25151024,  0.99266412,  0.98538127, -0.63075745, -0.93603701,\n",
       "        -0.52470577,  1.40712067, -0.94294406, -0.08104818, -0.31782263,\n",
       "        -0.54777625]])"
      ]
     },
     "execution_count": 41,
     "metadata": {},
     "output_type": "execute_result"
    }
   ],
   "source": [
    "x_train_sc[:5]"
   ]
  },
  {
   "cell_type": "markdown",
   "metadata": {
    "id": "hCri5xuAASOn"
   },
   "source": [
    "# **Model Training**"
   ]
  },
  {
   "cell_type": "code",
   "execution_count": 42,
   "metadata": {
    "executionInfo": {
     "elapsed": 28,
     "status": "ok",
     "timestamp": 1722845931535,
     "user": {
      "displayName": "kshma singh",
      "userId": "17750697602041806794"
     },
     "user_tz": -330
    },
    "id": "2Ml5QaFZJ8l6"
   },
   "outputs": [],
   "source": [
    "# Funct to evaluate model\n",
    "def eval_model_classification(x_train, x_test, y_train, y_test, model, mname):\n",
    "    # Fit the model\n",
    "    model.fit(x_train, y_train)\n",
    "\n",
    "    # Predict on the test set\n",
    "    y_pred = model.predict(x_test)\n",
    "\n",
    "    # Calculate metrics\n",
    "    accuracy = accuracy_score(y_test, y_pred)\n",
    "    precision = precision_score(y_test, y_pred, average='weighted')\n",
    "    recall = recall_score(y_test, y_pred, average='weighted')\n",
    "    f1 = f1_score(y_test, y_pred, average='weighted')\n",
    "    clf_rep = classification_report(y_test, y_pred)\n",
    "\n",
    "    # Create a DataFrame for the results\n",
    "    res_df = pd.DataFrame({\n",
    "        'Accuracy': [accuracy],\n",
    "        'Precision': [precision],\n",
    "        'Recall': [recall],\n",
    "        'F1_Score': [f1]\n",
    "    }, index=[mname])\n",
    "\n",
    "    return res_df, clf_rep"
   ]
  },
  {
   "cell_type": "markdown",
   "metadata": {
    "id": "DoKN8K9dlPvG"
   },
   "source": [
    "**Random Forest Without Feature Selection**"
   ]
  },
  {
   "cell_type": "code",
   "execution_count": 43,
   "metadata": {
    "colab": {
     "base_uri": "https://localhost:8080/",
     "height": 80
    },
    "executionInfo": {
     "elapsed": 28,
     "status": "ok",
     "timestamp": 1722845931535,
     "user": {
      "displayName": "kshma singh",
      "userId": "17750697602041806794"
     },
     "user_tz": -330
    },
    "id": "FSVWqRY7lFHU",
    "outputId": "164fbec9-3db2-4384-e322-e7917d8afe2f"
   },
   "outputs": [
    {
     "data": {
      "text/html": [
       "<div>\n",
       "<style scoped>\n",
       "    .dataframe tbody tr th:only-of-type {\n",
       "        vertical-align: middle;\n",
       "    }\n",
       "\n",
       "    .dataframe tbody tr th {\n",
       "        vertical-align: top;\n",
       "    }\n",
       "\n",
       "    .dataframe thead th {\n",
       "        text-align: right;\n",
       "    }\n",
       "</style>\n",
       "<table border=\"1\" class=\"dataframe\">\n",
       "  <thead>\n",
       "    <tr style=\"text-align: right;\">\n",
       "      <th></th>\n",
       "      <th>Accuracy</th>\n",
       "      <th>Precision</th>\n",
       "      <th>Recall</th>\n",
       "      <th>F1_Score</th>\n",
       "    </tr>\n",
       "  </thead>\n",
       "  <tbody>\n",
       "    <tr>\n",
       "      <th>Random Forest Classifier</th>\n",
       "      <td>0.9758</td>\n",
       "      <td>0.975804</td>\n",
       "      <td>0.9758</td>\n",
       "      <td>0.97575</td>\n",
       "    </tr>\n",
       "  </tbody>\n",
       "</table>\n",
       "</div>"
      ],
      "text/plain": [
       "                          Accuracy  Precision  Recall  F1_Score\n",
       "Random Forest Classifier    0.9758   0.975804  0.9758   0.97575"
      ]
     },
     "execution_count": 43,
     "metadata": {},
     "output_type": "execute_result"
    }
   ],
   "source": [
    "# Initialization of Random Forest\n",
    "rf = RandomForestClassifier()\n",
    "\n",
    "rf_res = eval_model_classification(x_train_sc, x_test_sc, y_train, y_test, rf, \"Random Forest Classifier\")\n",
    "rf_res[0]"
   ]
  },
  {
   "cell_type": "code",
   "execution_count": 44,
   "metadata": {
    "colab": {
     "base_uri": "https://localhost:8080/"
    },
    "executionInfo": {
     "elapsed": 27,
     "status": "ok",
     "timestamp": 1722845931535,
     "user": {
      "displayName": "kshma singh",
      "userId": "17750697602041806794"
     },
     "user_tz": -330
    },
    "id": "z1GR28O0lOSW",
    "outputId": "0f7c779c-a6dd-4477-8f8d-ecb9d719b6d3"
   },
   "outputs": [
    {
     "name": "stdout",
     "output_type": "stream",
     "text": [
      "Classification Report for Random Forest Classifier:\n",
      "\n",
      "               precision    recall  f1-score   support\n",
      "\n",
      "           0       0.98      0.96      0.97       471\n",
      "           1       0.98      0.99      0.98       810\n",
      "\n",
      "    accuracy                           0.98      1281\n",
      "   macro avg       0.98      0.97      0.97      1281\n",
      "weighted avg       0.98      0.98      0.98      1281\n",
      "\n"
     ]
    }
   ],
   "source": [
    "# Classification Report\n",
    "print('Classification Report for Random Forest Classifier:\\n\\n',rf_res[1])"
   ]
  },
  {
   "cell_type": "markdown",
   "metadata": {
    "id": "aeImBIfllXDQ"
   },
   "source": [
    "**Feature Importance**"
   ]
  },
  {
   "cell_type": "code",
   "execution_count": 45,
   "metadata": {
    "colab": {
     "base_uri": "https://localhost:8080/"
    },
    "executionInfo": {
     "elapsed": 25,
     "status": "ok",
     "timestamp": 1722845931535,
     "user": {
      "displayName": "kshma singh",
      "userId": "17750697602041806794"
     },
     "user_tz": -330
    },
    "id": "RIH2zprklE4e",
    "outputId": "d5726fb4-4ad3-402c-9106-3cb5b8d95433"
   },
   "outputs": [
    {
     "name": "stdout",
     "output_type": "stream",
     "text": [
      "Feature Importances:\n",
      "                     Feature  Importance\n",
      "6                cibil_score    0.821270\n",
      "5                  loan_term    0.055390\n",
      "4                loan_amount    0.027269\n",
      "7   residential_assets_value    0.017428\n",
      "9        luxury_assets_value    0.017300\n",
      "8    commercial_assets_value    0.016892\n",
      "3               income_annum    0.016140\n",
      "10          bank_asset_value    0.015411\n",
      "0           no_of_dependents    0.007720\n",
      "2              self_employed    0.002853\n",
      "1                  education    0.002328\n",
      "\n",
      "Important Features are:\n",
      "                    Feature  Importance\n",
      "6               cibil_score    0.821270\n",
      "5                 loan_term    0.055390\n",
      "4               loan_amount    0.027269\n",
      "7  residential_assets_value    0.017428\n",
      "9       luxury_assets_value    0.017300\n"
     ]
    }
   ],
   "source": [
    "# Get feature importances\n",
    "importances = rf.feature_importances_\n",
    "\n",
    "# Create a DataFrame to view feature importances\n",
    "feature_importances = pd.DataFrame({\n",
    "    'Feature': x.columns,\n",
    "    'Importance': importances\n",
    "}).sort_values(by='Importance', ascending=False)\n",
    "\n",
    "print(\"Feature Importances:\")\n",
    "print(feature_importances)\n",
    "\n",
    "threshold = 0.017\n",
    "important_features = feature_importances[feature_importances['Importance'] > threshold]\n",
    "\n",
    "print(\"\\nImportant Features are:\")\n",
    "print(important_features)"
   ]
  },
  {
   "cell_type": "markdown",
   "metadata": {
    "id": "epFdIqwPlgSe"
   },
   "source": [
    "**Splitiing after feature Selection**"
   ]
  },
  {
   "cell_type": "code",
   "execution_count": 46,
   "metadata": {
    "executionInfo": {
     "elapsed": 24,
     "status": "ok",
     "timestamp": 1722845931535,
     "user": {
      "displayName": "kshma singh",
      "userId": "17750697602041806794"
     },
     "user_tz": -330
    },
    "id": "JHkKDF5cl7ft"
   },
   "outputs": [],
   "source": [
    "# Removing no_of_dependents, self_employed and education from x\n",
    "x = x.drop(['no_of_dependents', 'self_employed','education'], axis=1)"
   ]
  },
  {
   "cell_type": "code",
   "execution_count": 47,
   "metadata": {
    "colab": {
     "base_uri": "https://localhost:8080/"
    },
    "executionInfo": {
     "elapsed": 23,
     "status": "ok",
     "timestamp": 1722845931535,
     "user": {
      "displayName": "kshma singh",
      "userId": "17750697602041806794"
     },
     "user_tz": -330
    },
    "id": "rN2MemtllfkM",
    "outputId": "f2e6cbea-ec53-4ee6-d0b8-78922b7466c2"
   },
   "outputs": [
    {
     "name": "stdout",
     "output_type": "stream",
     "text": [
      "(2988, 8)\n",
      "(1281, 8)\n",
      "(2988,)\n",
      "(1281,)\n"
     ]
    }
   ],
   "source": [
    "# Spliting of data\n",
    "# Spliting Data into train and test\n",
    "x_train,x_test,y_train,y_test = train_test_split(x,y,test_size=0.3, random_state=42)\n",
    "print(x_train.shape)\n",
    "print(x_test.shape)\n",
    "print(y_train.shape)\n",
    "print(y_test.shape)"
   ]
  },
  {
   "cell_type": "markdown",
   "metadata": {},
   "source": [
    "**KNN**"
   ]
  },
  {
   "cell_type": "code",
   "execution_count": 48,
   "metadata": {},
   "outputs": [
    {
     "data": {
      "text/html": [
       "<div>\n",
       "<style scoped>\n",
       "    .dataframe tbody tr th:only-of-type {\n",
       "        vertical-align: middle;\n",
       "    }\n",
       "\n",
       "    .dataframe tbody tr th {\n",
       "        vertical-align: top;\n",
       "    }\n",
       "\n",
       "    .dataframe thead th {\n",
       "        text-align: right;\n",
       "    }\n",
       "</style>\n",
       "<table border=\"1\" class=\"dataframe\">\n",
       "  <thead>\n",
       "    <tr style=\"text-align: right;\">\n",
       "      <th></th>\n",
       "      <th>Accuracy</th>\n",
       "      <th>Precision</th>\n",
       "      <th>Recall</th>\n",
       "      <th>F1_Score</th>\n",
       "    </tr>\n",
       "  </thead>\n",
       "  <tbody>\n",
       "    <tr>\n",
       "      <th>KNN</th>\n",
       "      <td>0.876659</td>\n",
       "      <td>0.879584</td>\n",
       "      <td>0.876659</td>\n",
       "      <td>0.877485</td>\n",
       "    </tr>\n",
       "  </tbody>\n",
       "</table>\n",
       "</div>"
      ],
      "text/plain": [
       "     Accuracy  Precision    Recall  F1_Score\n",
       "KNN  0.876659   0.879584  0.876659  0.877485"
      ]
     },
     "execution_count": 48,
     "metadata": {},
     "output_type": "execute_result"
    }
   ],
   "source": [
    "knn = KNeighborsClassifier(n_neighbors=3)\n",
    "knn_res = eval_model_classification(x_train_sc, x_test_sc, y_train, y_test, knn, \"KNN\")\n",
    "knn_res[0]"
   ]
  },
  {
   "cell_type": "code",
   "execution_count": 49,
   "metadata": {},
   "outputs": [
    {
     "name": "stdout",
     "output_type": "stream",
     "text": [
      "Classification Report for Logistic Reg:\n",
      "\n",
      "               precision    recall  f1-score   support\n",
      "\n",
      "           0       0.81      0.87      0.84       471\n",
      "           1       0.92      0.88      0.90       810\n",
      "\n",
      "    accuracy                           0.88      1281\n",
      "   macro avg       0.87      0.87      0.87      1281\n",
      "weighted avg       0.88      0.88      0.88      1281\n",
      "\n"
     ]
    }
   ],
   "source": [
    "print('Classification Report for Logistic Reg:\\n\\n', knn_res[1])"
   ]
  },
  {
   "cell_type": "markdown",
   "metadata": {
    "id": "90QZX7HHEmKy"
   },
   "source": [
    "**Logistic Regression**"
   ]
  },
  {
   "cell_type": "code",
   "execution_count": 50,
   "metadata": {
    "colab": {
     "base_uri": "https://localhost:8080/",
     "height": 80
    },
    "executionInfo": {
     "elapsed": 646,
     "status": "ok",
     "timestamp": 1722845932160,
     "user": {
      "displayName": "kshma singh",
      "userId": "17750697602041806794"
     },
     "user_tz": -330
    },
    "id": "zLILMuKO__0r",
    "outputId": "fcf01a8c-e735-4166-ec49-e0a43b04751a"
   },
   "outputs": [
    {
     "data": {
      "text/html": [
       "<div>\n",
       "<style scoped>\n",
       "    .dataframe tbody tr th:only-of-type {\n",
       "        vertical-align: middle;\n",
       "    }\n",
       "\n",
       "    .dataframe tbody tr th {\n",
       "        vertical-align: top;\n",
       "    }\n",
       "\n",
       "    .dataframe thead th {\n",
       "        text-align: right;\n",
       "    }\n",
       "</style>\n",
       "<table border=\"1\" class=\"dataframe\">\n",
       "  <thead>\n",
       "    <tr style=\"text-align: right;\">\n",
       "      <th></th>\n",
       "      <th>Accuracy</th>\n",
       "      <th>Precision</th>\n",
       "      <th>Recall</th>\n",
       "      <th>F1_Score</th>\n",
       "    </tr>\n",
       "  </thead>\n",
       "  <tbody>\n",
       "    <tr>\n",
       "      <th>Logistic Regression</th>\n",
       "      <td>0.903201</td>\n",
       "      <td>0.903291</td>\n",
       "      <td>0.903201</td>\n",
       "      <td>0.903243</td>\n",
       "    </tr>\n",
       "  </tbody>\n",
       "</table>\n",
       "</div>"
      ],
      "text/plain": [
       "                     Accuracy  Precision    Recall  F1_Score\n",
       "Logistic Regression  0.903201   0.903291  0.903201  0.903243"
      ]
     },
     "execution_count": 50,
     "metadata": {},
     "output_type": "execute_result"
    }
   ],
   "source": [
    "# Initialization of Logistic model\n",
    "lm = LogisticRegression()\n",
    "\n",
    "lm_res = eval_model_classification(x_train_sc, x_test_sc, y_train, y_test, lm, \"Logistic Regression\")\n",
    "lm_res[0]"
   ]
  },
  {
   "cell_type": "code",
   "execution_count": 51,
   "metadata": {
    "colab": {
     "base_uri": "https://localhost:8080/"
    },
    "executionInfo": {
     "elapsed": 29,
     "status": "ok",
     "timestamp": 1722845932160,
     "user": {
      "displayName": "kshma singh",
      "userId": "17750697602041806794"
     },
     "user_tz": -330
    },
    "id": "QqNKgX6XNc90",
    "outputId": "3319795a-8150-49b1-93a5-57954472035e"
   },
   "outputs": [
    {
     "name": "stdout",
     "output_type": "stream",
     "text": [
      "Classification Report for Logistic Reg:\n",
      "\n",
      "               precision    recall  f1-score   support\n",
      "\n",
      "           0       0.87      0.87      0.87       471\n",
      "           1       0.92      0.92      0.92       810\n",
      "\n",
      "    accuracy                           0.90      1281\n",
      "   macro avg       0.90      0.90      0.90      1281\n",
      "weighted avg       0.90      0.90      0.90      1281\n",
      "\n"
     ]
    }
   ],
   "source": [
    "# Classification Report\n",
    "print('Classification Report for Logistic Reg:\\n\\n',lm_res[1])"
   ]
  },
  {
   "cell_type": "markdown",
   "metadata": {
    "id": "wg_041QBN1Cs"
   },
   "source": [
    "**Decision Tree Classifier**"
   ]
  },
  {
   "cell_type": "code",
   "execution_count": 52,
   "metadata": {
    "colab": {
     "base_uri": "https://localhost:8080/",
     "height": 80
    },
    "executionInfo": {
     "elapsed": 20,
     "status": "ok",
     "timestamp": 1722845932160,
     "user": {
      "displayName": "kshma singh",
      "userId": "17750697602041806794"
     },
     "user_tz": -330
    },
    "id": "gVO6Qx8ONc7P",
    "outputId": "55c84dd7-0ef7-43d6-fd52-b41d2b82019f"
   },
   "outputs": [
    {
     "data": {
      "text/html": [
       "<div>\n",
       "<style scoped>\n",
       "    .dataframe tbody tr th:only-of-type {\n",
       "        vertical-align: middle;\n",
       "    }\n",
       "\n",
       "    .dataframe tbody tr th {\n",
       "        vertical-align: top;\n",
       "    }\n",
       "\n",
       "    .dataframe thead th {\n",
       "        text-align: right;\n",
       "    }\n",
       "</style>\n",
       "<table border=\"1\" class=\"dataframe\">\n",
       "  <thead>\n",
       "    <tr style=\"text-align: right;\">\n",
       "      <th></th>\n",
       "      <th>Accuracy</th>\n",
       "      <th>Precision</th>\n",
       "      <th>Recall</th>\n",
       "      <th>F1_Score</th>\n",
       "    </tr>\n",
       "  </thead>\n",
       "  <tbody>\n",
       "    <tr>\n",
       "      <th>Decision Tree Classifier</th>\n",
       "      <td>0.9758</td>\n",
       "      <td>0.975786</td>\n",
       "      <td>0.9758</td>\n",
       "      <td>0.975762</td>\n",
       "    </tr>\n",
       "  </tbody>\n",
       "</table>\n",
       "</div>"
      ],
      "text/plain": [
       "                          Accuracy  Precision  Recall  F1_Score\n",
       "Decision Tree Classifier    0.9758   0.975786  0.9758  0.975762"
      ]
     },
     "execution_count": 52,
     "metadata": {},
     "output_type": "execute_result"
    }
   ],
   "source": [
    "# Initialization of Decision Tree model\n",
    "dt = DecisionTreeClassifier()\n",
    "\n",
    "dt_res = eval_model_classification(x_train_sc, x_test_sc, y_train, y_test, dt, \"Decision Tree Classifier\")\n",
    "dt_res[0]"
   ]
  },
  {
   "cell_type": "code",
   "execution_count": 53,
   "metadata": {
    "colab": {
     "base_uri": "https://localhost:8080/"
    },
    "executionInfo": {
     "elapsed": 18,
     "status": "ok",
     "timestamp": 1722845932160,
     "user": {
      "displayName": "kshma singh",
      "userId": "17750697602041806794"
     },
     "user_tz": -330
    },
    "id": "uiRzLuXENc3Y",
    "outputId": "90e825e5-95b1-4a3e-856b-855a221543cb"
   },
   "outputs": [
    {
     "name": "stdout",
     "output_type": "stream",
     "text": [
      "Classification Report for Decision Tree Classifier:\n",
      "\n",
      "               precision    recall  f1-score   support\n",
      "\n",
      "           0       0.97      0.96      0.97       471\n",
      "           1       0.98      0.99      0.98       810\n",
      "\n",
      "    accuracy                           0.98      1281\n",
      "   macro avg       0.98      0.97      0.97      1281\n",
      "weighted avg       0.98      0.98      0.98      1281\n",
      "\n"
     ]
    }
   ],
   "source": [
    "# Classification Report\n",
    "print('Classification Report for Decision Tree Classifier:\\n\\n',dt_res[1])"
   ]
  },
  {
   "cell_type": "markdown",
   "metadata": {
    "id": "xu5WweTXOnPI"
   },
   "source": [
    "**Random Forest**"
   ]
  },
  {
   "cell_type": "code",
   "execution_count": 54,
   "metadata": {
    "colab": {
     "base_uri": "https://localhost:8080/",
     "height": 80
    },
    "executionInfo": {
     "elapsed": 15,
     "status": "ok",
     "timestamp": 1722845932160,
     "user": {
      "displayName": "kshma singh",
      "userId": "17750697602041806794"
     },
     "user_tz": -330
    },
    "id": "NBR-u-2YOmlg",
    "outputId": "44d4130a-b187-43d1-f917-9bf05a450b13"
   },
   "outputs": [
    {
     "data": {
      "text/html": [
       "<div>\n",
       "<style scoped>\n",
       "    .dataframe tbody tr th:only-of-type {\n",
       "        vertical-align: middle;\n",
       "    }\n",
       "\n",
       "    .dataframe tbody tr th {\n",
       "        vertical-align: top;\n",
       "    }\n",
       "\n",
       "    .dataframe thead th {\n",
       "        text-align: right;\n",
       "    }\n",
       "</style>\n",
       "<table border=\"1\" class=\"dataframe\">\n",
       "  <thead>\n",
       "    <tr style=\"text-align: right;\">\n",
       "      <th></th>\n",
       "      <th>Accuracy</th>\n",
       "      <th>Precision</th>\n",
       "      <th>Recall</th>\n",
       "      <th>F1_Score</th>\n",
       "    </tr>\n",
       "  </thead>\n",
       "  <tbody>\n",
       "    <tr>\n",
       "      <th>Random Forest Classifier</th>\n",
       "      <td>0.976581</td>\n",
       "      <td>0.976577</td>\n",
       "      <td>0.976581</td>\n",
       "      <td>0.976538</td>\n",
       "    </tr>\n",
       "  </tbody>\n",
       "</table>\n",
       "</div>"
      ],
      "text/plain": [
       "                          Accuracy  Precision    Recall  F1_Score\n",
       "Random Forest Classifier  0.976581   0.976577  0.976581  0.976538"
      ]
     },
     "execution_count": 54,
     "metadata": {},
     "output_type": "execute_result"
    }
   ],
   "source": [
    "# Initialization of Random Forest\n",
    "rf = RandomForestClassifier()\n",
    "\n",
    "rf_res = eval_model_classification(x_train_sc, x_test_sc, y_train, y_test, rf, \"Random Forest Classifier\")\n",
    "rf_res[0]"
   ]
  },
  {
   "cell_type": "code",
   "execution_count": 55,
   "metadata": {
    "colab": {
     "base_uri": "https://localhost:8080/"
    },
    "executionInfo": {
     "elapsed": 15,
     "status": "ok",
     "timestamp": 1722845932161,
     "user": {
      "displayName": "kshma singh",
      "userId": "17750697602041806794"
     },
     "user_tz": -330
    },
    "id": "sQ-8MdbVNc0F",
    "outputId": "4cf24f77-0741-4d53-8b5d-35450f362ee2"
   },
   "outputs": [
    {
     "name": "stdout",
     "output_type": "stream",
     "text": [
      "Classification Report for Random Forest Classifier:\n",
      "\n",
      "               precision    recall  f1-score   support\n",
      "\n",
      "           0       0.98      0.96      0.97       471\n",
      "           1       0.98      0.99      0.98       810\n",
      "\n",
      "    accuracy                           0.98      1281\n",
      "   macro avg       0.98      0.97      0.97      1281\n",
      "weighted avg       0.98      0.98      0.98      1281\n",
      "\n"
     ]
    }
   ],
   "source": [
    "# Classification Report\n",
    "print('Classification Report for Random Forest Classifier:\\n\\n',rf_res[1])"
   ]
  },
  {
   "cell_type": "markdown",
   "metadata": {
    "id": "TZhFOWXtm5nt"
   },
   "source": [
    "**Gradient Boosting**"
   ]
  },
  {
   "cell_type": "code",
   "execution_count": 56,
   "metadata": {
    "colab": {
     "base_uri": "https://localhost:8080/",
     "height": 80
    },
    "executionInfo": {
     "elapsed": 1258,
     "status": "ok",
     "timestamp": 1722845933407,
     "user": {
      "displayName": "kshma singh",
      "userId": "17750697602041806794"
     },
     "user_tz": -330
    },
    "id": "D1dFzPduNcxn",
    "outputId": "7e0ed406-1397-4cdf-8a57-4eb6ba7e6be4"
   },
   "outputs": [
    {
     "data": {
      "text/html": [
       "<div>\n",
       "<style scoped>\n",
       "    .dataframe tbody tr th:only-of-type {\n",
       "        vertical-align: middle;\n",
       "    }\n",
       "\n",
       "    .dataframe tbody tr th {\n",
       "        vertical-align: top;\n",
       "    }\n",
       "\n",
       "    .dataframe thead th {\n",
       "        text-align: right;\n",
       "    }\n",
       "</style>\n",
       "<table border=\"1\" class=\"dataframe\">\n",
       "  <thead>\n",
       "    <tr style=\"text-align: right;\">\n",
       "      <th></th>\n",
       "      <th>Accuracy</th>\n",
       "      <th>Precision</th>\n",
       "      <th>Recall</th>\n",
       "      <th>F1_Score</th>\n",
       "    </tr>\n",
       "  </thead>\n",
       "  <tbody>\n",
       "    <tr>\n",
       "      <th>Gradient Boosting Classifier</th>\n",
       "      <td>0.97502</td>\n",
       "      <td>0.975109</td>\n",
       "      <td>0.97502</td>\n",
       "      <td>0.974938</td>\n",
       "    </tr>\n",
       "  </tbody>\n",
       "</table>\n",
       "</div>"
      ],
      "text/plain": [
       "                              Accuracy  Precision   Recall  F1_Score\n",
       "Gradient Boosting Classifier   0.97502   0.975109  0.97502  0.974938"
      ]
     },
     "execution_count": 56,
     "metadata": {},
     "output_type": "execute_result"
    }
   ],
   "source": [
    "grb = GradientBoostingClassifier()\n",
    "\n",
    "grb_res = eval_model_classification(x_train_sc, x_test_sc, y_train, y_test, grb, \"Gradient Boosting Classifier\")\n",
    "grb_res[0]"
   ]
  },
  {
   "cell_type": "code",
   "execution_count": 57,
   "metadata": {
    "colab": {
     "base_uri": "https://localhost:8080/"
    },
    "executionInfo": {
     "elapsed": 12,
     "status": "ok",
     "timestamp": 1722845933408,
     "user": {
      "displayName": "kshma singh",
      "userId": "17750697602041806794"
     },
     "user_tz": -330
    },
    "id": "elfDHlabNcla",
    "outputId": "bf70e6c3-6da5-43da-fa67-1016cde7a108"
   },
   "outputs": [
    {
     "name": "stdout",
     "output_type": "stream",
     "text": [
      "Classification Report for Gradient Boosting Classifier:\n",
      "\n",
      "               precision    recall  f1-score   support\n",
      "\n",
      "           0       0.98      0.95      0.97       471\n",
      "           1       0.97      0.99      0.98       810\n",
      "\n",
      "    accuracy                           0.98      1281\n",
      "   macro avg       0.98      0.97      0.97      1281\n",
      "weighted avg       0.98      0.98      0.97      1281\n",
      "\n"
     ]
    }
   ],
   "source": [
    "# Classification Report\n",
    "print('Classification Report for Gradient Boosting Classifier:\\n\\n',grb_res[1])"
   ]
  },
  {
   "cell_type": "code",
   "execution_count": 58,
   "metadata": {
    "colab": {
     "base_uri": "https://localhost:8080/",
     "height": 80
    },
    "executionInfo": {
     "elapsed": 1524,
     "status": "ok",
     "timestamp": 1722845934924,
     "user": {
      "displayName": "kshma singh",
      "userId": "17750697602041806794"
     },
     "user_tz": -330
    },
    "id": "FbWoj0PPnYCj",
    "outputId": "cd0346bb-8d57-4bf1-d7d6-f7cd7368cb89"
   },
   "outputs": [
    {
     "data": {
      "text/html": [
       "<div>\n",
       "<style scoped>\n",
       "    .dataframe tbody tr th:only-of-type {\n",
       "        vertical-align: middle;\n",
       "    }\n",
       "\n",
       "    .dataframe tbody tr th {\n",
       "        vertical-align: top;\n",
       "    }\n",
       "\n",
       "    .dataframe thead th {\n",
       "        text-align: right;\n",
       "    }\n",
       "</style>\n",
       "<table border=\"1\" class=\"dataframe\">\n",
       "  <thead>\n",
       "    <tr style=\"text-align: right;\">\n",
       "      <th></th>\n",
       "      <th>Accuracy</th>\n",
       "      <th>Precision</th>\n",
       "      <th>Recall</th>\n",
       "      <th>F1_Score</th>\n",
       "    </tr>\n",
       "  </thead>\n",
       "  <tbody>\n",
       "    <tr>\n",
       "      <th>XGBoost Classifier</th>\n",
       "      <td>0.978142</td>\n",
       "      <td>0.978123</td>\n",
       "      <td>0.978142</td>\n",
       "      <td>0.978122</td>\n",
       "    </tr>\n",
       "  </tbody>\n",
       "</table>\n",
       "</div>"
      ],
      "text/plain": [
       "                    Accuracy  Precision    Recall  F1_Score\n",
       "XGBoost Classifier  0.978142   0.978123  0.978142  0.978122"
      ]
     },
     "execution_count": 58,
     "metadata": {},
     "output_type": "execute_result"
    }
   ],
   "source": [
    "xgb_ = XGBClassifier()\n",
    "\n",
    "xgb_res = eval_model_classification(x_train_sc, x_test_sc, y_train, y_test, xgb_, \"XGBoost Classifier\")\n",
    "xgb_res[0]"
   ]
  },
  {
   "cell_type": "code",
   "execution_count": 59,
   "metadata": {
    "colab": {
     "base_uri": "https://localhost:8080/"
    },
    "executionInfo": {
     "elapsed": 9,
     "status": "ok",
     "timestamp": 1722845934924,
     "user": {
      "displayName": "kshma singh",
      "userId": "17750697602041806794"
     },
     "user_tz": -330
    },
    "id": "mqv2QgRQoexk",
    "outputId": "dedf4079-98cb-41bf-a28d-cc40aac473be"
   },
   "outputs": [
    {
     "name": "stdout",
     "output_type": "stream",
     "text": [
      "Classification Report for Gradient Boosting Classifier:\n",
      "\n",
      "               precision    recall  f1-score   support\n",
      "\n",
      "           0       0.97      0.97      0.97       471\n",
      "           1       0.98      0.99      0.98       810\n",
      "\n",
      "    accuracy                           0.98      1281\n",
      "   macro avg       0.98      0.98      0.98      1281\n",
      "weighted avg       0.98      0.98      0.98      1281\n",
      "\n"
     ]
    }
   ],
   "source": [
    "# Classification Report\n",
    "print('Classification Report for Gradient Boosting Classifier:\\n\\n',xgb_res[1])"
   ]
  },
  {
   "cell_type": "code",
   "execution_count": 60,
   "metadata": {},
   "outputs": [
    {
     "data": {
      "text/html": [
       "<div>\n",
       "<style scoped>\n",
       "    .dataframe tbody tr th:only-of-type {\n",
       "        vertical-align: middle;\n",
       "    }\n",
       "\n",
       "    .dataframe tbody tr th {\n",
       "        vertical-align: top;\n",
       "    }\n",
       "\n",
       "    .dataframe thead th {\n",
       "        text-align: right;\n",
       "    }\n",
       "</style>\n",
       "<table border=\"1\" class=\"dataframe\">\n",
       "  <thead>\n",
       "    <tr style=\"text-align: right;\">\n",
       "      <th></th>\n",
       "      <th>Accuracy</th>\n",
       "      <th>Precision</th>\n",
       "      <th>Recall</th>\n",
       "      <th>F1_Score</th>\n",
       "    </tr>\n",
       "  </thead>\n",
       "  <tbody>\n",
       "    <tr>\n",
       "      <th>KNN</th>\n",
       "      <td>0.876659</td>\n",
       "      <td>0.879584</td>\n",
       "      <td>0.876659</td>\n",
       "      <td>0.877485</td>\n",
       "    </tr>\n",
       "    <tr>\n",
       "      <th>Logistic Regression</th>\n",
       "      <td>0.903201</td>\n",
       "      <td>0.903291</td>\n",
       "      <td>0.903201</td>\n",
       "      <td>0.903243</td>\n",
       "    </tr>\n",
       "    <tr>\n",
       "      <th>Decision Tree Classifier</th>\n",
       "      <td>0.975800</td>\n",
       "      <td>0.975786</td>\n",
       "      <td>0.975800</td>\n",
       "      <td>0.975762</td>\n",
       "    </tr>\n",
       "    <tr>\n",
       "      <th>Random Forest Classifier</th>\n",
       "      <td>0.976581</td>\n",
       "      <td>0.976577</td>\n",
       "      <td>0.976581</td>\n",
       "      <td>0.976538</td>\n",
       "    </tr>\n",
       "    <tr>\n",
       "      <th>Gradient Boosting Classifier</th>\n",
       "      <td>0.975020</td>\n",
       "      <td>0.975109</td>\n",
       "      <td>0.975020</td>\n",
       "      <td>0.974938</td>\n",
       "    </tr>\n",
       "    <tr>\n",
       "      <th>XGBoost Classifier</th>\n",
       "      <td>0.978142</td>\n",
       "      <td>0.978123</td>\n",
       "      <td>0.978142</td>\n",
       "      <td>0.978122</td>\n",
       "    </tr>\n",
       "  </tbody>\n",
       "</table>\n",
       "</div>"
      ],
      "text/plain": [
       "                              Accuracy  Precision    Recall  F1_Score\n",
       "KNN                           0.876659   0.879584  0.876659  0.877485\n",
       "Logistic Regression           0.903201   0.903291  0.903201  0.903243\n",
       "Decision Tree Classifier      0.975800   0.975786  0.975800  0.975762\n",
       "Random Forest Classifier      0.976581   0.976577  0.976581  0.976538\n",
       "Gradient Boosting Classifier  0.975020   0.975109  0.975020  0.974938\n",
       "XGBoost Classifier            0.978142   0.978123  0.978142  0.978122"
      ]
     },
     "execution_count": 60,
     "metadata": {},
     "output_type": "execute_result"
    }
   ],
   "source": [
    "pd.concat([knn_res[0], lm_res[0], dt_res[0], rf_res[0], grb_res[0], xgb_res[0]], axis=0)"
   ]
  },
  {
   "cell_type": "code",
   "execution_count": 61,
   "metadata": {
    "colab": {
     "base_uri": "https://localhost:8080/"
    },
    "executionInfo": {
     "elapsed": 4658,
     "status": "ok",
     "timestamp": 1722845939576,
     "user": {
      "displayName": "kshma singh",
      "userId": "17750697602041806794"
     },
     "user_tz": -330
    },
    "id": "6kzBw52Dr9Ky",
    "outputId": "fbc020e5-6370-490f-c816-20ba2a3b4f5d"
   },
   "outputs": [
    {
     "name": "stdout",
     "output_type": "stream",
     "text": [
      "Cross-Validation Scores: [0.98126464 0.98477752 0.9824356  0.98711944 0.98124267]\n",
      "Mean Accuracy: 0.9833679725229318\n",
      "Standard Deviation: 0.0022746671173131568\n"
     ]
    }
   ],
   "source": [
    "# Define the cross-validation strategy\n",
    "kf = KFold(n_splits=5, shuffle=True, random_state=42)\n",
    "\n",
    "# Define the evaluation metric\n",
    "scorer = make_scorer(accuracy_score)\n",
    "\n",
    "# Perform cross-validation\n",
    "scores = cross_val_score(xgb_, x, y, cv=kf, scoring=scorer)\n",
    "\n",
    "# Review the results\n",
    "print(f'Cross-Validation Scores: {scores}')\n",
    "print(f'Mean Accuracy: {scores.mean()}')\n",
    "print(f'Standard Deviation: {scores.std()}')"
   ]
  },
  {
   "cell_type": "code",
   "execution_count": 62,
   "metadata": {
    "colab": {
     "base_uri": "https://localhost:8080/"
    },
    "executionInfo": {
     "elapsed": 126692,
     "status": "ok",
     "timestamp": 1722846066263,
     "user": {
      "displayName": "kshma singh",
      "userId": "17750697602041806794"
     },
     "user_tz": -330
    },
    "id": "opwi1wkjL_1L",
    "outputId": "4d95e80b-06b9-4a6e-c8c5-9ad854f915d6"
   },
   "outputs": [],
   "source": [
    "# param_grid = {\n",
    "#     'eta': [0.01, 0.1, 0.3],\n",
    "#     'max_depth': [3, 5, 7],\n",
    "#     'subsample': [0.6, 0.8, 1.0],\n",
    "#     'colsample_bytree': [0.6, 0.8, 1.0],\n",
    "#     'n_estimators': [50, 100, 150]\n",
    "# }\n",
    "\n",
    "# # Define the scoring metric\n",
    "# scorer = make_scorer(accuracy_score)\n",
    "\n",
    "# # Perform grid search\n",
    "# grid_search = GridSearchCV(\n",
    "#     estimator=xgb_,\n",
    "#     param_grid=param_grid,\n",
    "#     scoring=scorer,\n",
    "#     cv=5,\n",
    "#     verbose=1,\n",
    "#     n_jobs=-1\n",
    "# )\n",
    "\n",
    "# grid_search.fit(x, y)\n",
    "\n",
    "# # Review the best parameters\n",
    "# print(f'Best parameters found: {grid_search.best_params_}')\n",
    "# print(f'Best cross-validation score: {grid_search.best_score_}')"
   ]
  },
  {
   "cell_type": "code",
   "execution_count": 63,
   "metadata": {
    "colab": {
     "base_uri": "https://localhost:8080/"
    },
    "executionInfo": {
     "elapsed": 103364,
     "status": "ok",
     "timestamp": 1722846169614,
     "user": {
      "displayName": "kshma singh",
      "userId": "17750697602041806794"
     },
     "user_tz": -330
    },
    "id": "ZX6a5waJMagn",
    "outputId": "a376b5bf-cc71-49db-d0b8-f47af86e79ce"
   },
   "outputs": [
    {
     "name": "stdout",
     "output_type": "stream",
     "text": [
      "Fitting 5 folds for each of 324 candidates, totalling 1620 fits\n",
      "Best parameters found: {'colsample_bytree': 1.0, 'eta': 0.1, 'max_depth': 8, 'n_estimators': 150, 'subsample': 0.8}\n",
      "Best cross-validation score: 0.9847739484008775\n"
     ]
    }
   ],
   "source": [
    "param_grid = {\n",
    "    'eta': [ 0.1, 0.2,0.3],\n",
    "    'max_depth': [ 7, 8, 9],\n",
    "    'subsample': [0.8, 0.9,1.0],\n",
    "    'colsample_bytree': [ 0.8, 1.0, 1.1, 1.2],\n",
    "    'n_estimators': [100, 150, 200]\n",
    "}\n",
    "\n",
    "# Define the scoring metric\n",
    "scorer = make_scorer(accuracy_score)\n",
    "\n",
    "# Perform grid search\n",
    "grid_search = GridSearchCV(\n",
    "    estimator=xgb_,\n",
    "    param_grid=param_grid,\n",
    "    scoring=scorer,\n",
    "    cv=5,\n",
    "    verbose=1,\n",
    "    n_jobs=-1\n",
    ")\n",
    "\n",
    "grid_search.fit(x, y)\n",
    "\n",
    "# Review the best parameters\n",
    "print(f'Best parameters found: {grid_search.best_params_}')\n",
    "print(f'Best cross-validation score: {grid_search.best_score_}')"
   ]
  },
  {
   "cell_type": "code",
   "execution_count": 64,
   "metadata": {
    "executionInfo": {
     "elapsed": 6,
     "status": "ok",
     "timestamp": 1722846169614,
     "user": {
      "displayName": "kshma singh",
      "userId": "17750697602041806794"
     },
     "user_tz": -330
    },
    "id": "hQefpri2PDtZ"
   },
   "outputs": [],
   "source": [
    "# {'colsample_bytree': 1.0, 'eta': 0.1, 'max_depth': 8, 'n_estimators': 150, 'subsample': 0.8}"
   ]
  },
  {
   "cell_type": "code",
   "execution_count": 65,
   "metadata": {
    "colab": {
     "base_uri": "https://localhost:8080/",
     "height": 80
    },
    "executionInfo": {
     "elapsed": 586,
     "status": "ok",
     "timestamp": 1722846231191,
     "user": {
      "displayName": "kshma singh",
      "userId": "17750697602041806794"
     },
     "user_tz": -330
    },
    "id": "VbCpS5mXnqm0",
    "outputId": "1983332d-621f-4320-c1c0-584068480a44"
   },
   "outputs": [
    {
     "data": {
      "text/html": [
       "<div>\n",
       "<style scoped>\n",
       "    .dataframe tbody tr th:only-of-type {\n",
       "        vertical-align: middle;\n",
       "    }\n",
       "\n",
       "    .dataframe tbody tr th {\n",
       "        vertical-align: top;\n",
       "    }\n",
       "\n",
       "    .dataframe thead th {\n",
       "        text-align: right;\n",
       "    }\n",
       "</style>\n",
       "<table border=\"1\" class=\"dataframe\">\n",
       "  <thead>\n",
       "    <tr style=\"text-align: right;\">\n",
       "      <th></th>\n",
       "      <th>Accuracy</th>\n",
       "      <th>Precision</th>\n",
       "      <th>Recall</th>\n",
       "      <th>F1_Score</th>\n",
       "    </tr>\n",
       "  </thead>\n",
       "  <tbody>\n",
       "    <tr>\n",
       "      <th>XGBoost</th>\n",
       "      <td>0.97502</td>\n",
       "      <td>0.974998</td>\n",
       "      <td>0.97502</td>\n",
       "      <td>0.974986</td>\n",
       "    </tr>\n",
       "  </tbody>\n",
       "</table>\n",
       "</div>"
      ],
      "text/plain": [
       "         Accuracy  Precision   Recall  F1_Score\n",
       "XGBoost   0.97502   0.974998  0.97502  0.974986"
      ]
     },
     "execution_count": 65,
     "metadata": {},
     "output_type": "execute_result"
    }
   ],
   "source": [
    "# XGBoost Final Model\n",
    "final_model = XGBClassifier(colsample_bytree= 1.0, eta= 0.1, max_depth =8, n_estimators =150, subsample =0.8)\n",
    "\n",
    "model_res = eval_model_classification(x_train_sc, x_test_sc, y_train, y_test, final_model, \"XGBoost\")\n",
    "model_res[0]"
   ]
  },
  {
   "cell_type": "code",
   "execution_count": 66,
   "metadata": {
    "colab": {
     "base_uri": "https://localhost:8080/"
    },
    "executionInfo": {
     "elapsed": 2,
     "status": "ok",
     "timestamp": 1722846234332,
     "user": {
      "displayName": "kshma singh",
      "userId": "17750697602041806794"
     },
     "user_tz": -330
    },
    "id": "tY96I9rRopSb",
    "outputId": "8b1de305-ccd0-407c-c543-ebc2e021de45"
   },
   "outputs": [
    {
     "name": "stdout",
     "output_type": "stream",
     "text": [
      "Classification Report for Gradient Boosting Classifier:\n",
      "\n",
      "               precision    recall  f1-score   support\n",
      "\n",
      "           0       0.97      0.96      0.97       471\n",
      "           1       0.98      0.98      0.98       810\n",
      "\n",
      "    accuracy                           0.98      1281\n",
      "   macro avg       0.97      0.97      0.97      1281\n",
      "weighted avg       0.97      0.98      0.97      1281\n",
      "\n"
     ]
    }
   ],
   "source": [
    "# Classification Report\n",
    "print('Classification Report for Gradient Boosting Classifier:\\n\\n',model_res[1])"
   ]
  },
  {
   "cell_type": "markdown",
   "metadata": {
    "id": "p6AKsvMbo9gP"
   },
   "source": [
    "**Conclusion: XGBoost Is the best model which is giving 97% acc at train and 98% at test data**"
   ]
  },
  {
   "cell_type": "markdown",
   "metadata": {
    "id": "pyY0j7efpQDT"
   },
   "source": [
    "Saving the model in pickel file"
   ]
  },
  {
   "cell_type": "code",
   "execution_count": 67,
   "metadata": {
    "colab": {
     "base_uri": "https://localhost:8080/"
    },
    "executionInfo": {
     "elapsed": 542,
     "status": "ok",
     "timestamp": 1722846421217,
     "user": {
      "displayName": "kshma singh",
      "userId": "17750697602041806794"
     },
     "user_tz": -330
    },
    "id": "NTT3PqjEoyPC",
    "outputId": "03a72491-415f-45f1-9ea6-7f33aa6b5234"
   },
   "outputs": [
    {
     "data": {
      "text/plain": [
       "['model.pkl']"
      ]
     },
     "execution_count": 67,
     "metadata": {},
     "output_type": "execute_result"
    }
   ],
   "source": [
    "# Saving model in pkl file\n",
    "import joblib\n",
    "\n",
    "# Save the model\n",
    "joblib.dump(final_model, 'model.pkl')\n"
   ]
  },
  {
   "cell_type": "code",
   "execution_count": null,
   "metadata": {
    "id": "yJRYkykyphrL"
   },
   "outputs": [],
   "source": []
  },
  {
   "cell_type": "code",
   "execution_count": null,
   "metadata": {},
   "outputs": [],
   "source": []
  }
 ],
 "metadata": {
  "accelerator": "GPU",
  "colab": {
   "authorship_tag": "ABX9TyPDl/Rx+/ruihH+y7Ugscnw",
   "gpuType": "T4",
   "mount_file_id": "1JkJwdlOKM6x3nTfAleYKBPvGxxdORzFJ",
   "provenance": []
  },
  "kernelspec": {
   "display_name": "Python 3 (ipykernel)",
   "language": "python",
   "name": "python3"
  },
  "language_info": {
   "codemirror_mode": {
    "name": "ipython",
    "version": 3
   },
   "file_extension": ".py",
   "mimetype": "text/x-python",
   "name": "python",
   "nbconvert_exporter": "python",
   "pygments_lexer": "ipython3",
   "version": "3.9.13"
  }
 },
 "nbformat": 4,
 "nbformat_minor": 4
}
